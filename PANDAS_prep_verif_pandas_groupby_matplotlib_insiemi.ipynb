{
  "nbformat": 4,
  "nbformat_minor": 0,
  "metadata": {
    "colab": {
      "provenance": [],
      "authorship_tag": "ABX9TyO0TzSe7Vj24eeujjD87TCc",
      "include_colab_link": true
    },
    "kernelspec": {
      "name": "python3",
      "display_name": "Python 3"
    },
    "language_info": {
      "name": "python"
    }
  },
  "cells": [
    {
      "cell_type": "markdown",
      "metadata": {
        "id": "view-in-github",
        "colab_type": "text"
      },
      "source": [
        "<a href=\"https://colab.research.google.com/github/BernasconiLorenzo06/PANDAS_FILE/blob/main/PANDAS_prep_verif_pandas_groupby_matplotlib_insiemi.ipynb\" target=\"_parent\"><img src=\"https://colab.research.google.com/assets/colab-badge.svg\" alt=\"Open In Colab\"/></a>"
      ]
    },
    {
      "cell_type": "code",
      "execution_count": null,
      "metadata": {
        "colab": {
          "base_uri": "https://localhost:8080/"
        },
        "id": "RMz2BayiWgMW",
        "outputId": "6ea54609-dc2e-4b4c-daf2-2727d08e6417"
      },
      "outputs": [
        {
          "output_type": "stream",
          "name": "stdout",
          "text": [
            "Mounted at /content/drive\n"
          ]
        }
      ],
      "source": [
        "from google.colab import drive\n",
        "drive.mount('/content/drive')\n",
        "import pandas as pd"
      ]
    },
    {
      "cell_type": "code",
      "source": [
        "df = pd.read_csv(\"https://raw.githubusercontent.com/italia/covid19-opendata-vaccini/master/dati/platea.csv\")\n",
        "df"
      ],
      "metadata": {
        "id": "ZJSRU_biYLev",
        "colab": {
          "base_uri": "https://localhost:8080/",
          "height": 423
        },
        "outputId": "9843a126-73c4-4442-c8fa-d1029a1bfc9f"
      },
      "execution_count": null,
      "outputs": [
        {
          "output_type": "execute_result",
          "data": {
            "text/plain": [
              "    area      reg    eta  totale_popolazione\n",
              "0    ABR  Abruzzo  00-04               37923\n",
              "1    ABR  Abruzzo  05-11               76431\n",
              "2    ABR  Abruzzo  12-19               94727\n",
              "3    ABR  Abruzzo  20-29              125230\n",
              "4    ABR  Abruzzo  30-39              146965\n",
              "..   ...      ...    ...                 ...\n",
              "205  VEN   Veneto  40-49              715790\n",
              "206  VEN   Veneto  50-59              806474\n",
              "207  VEN   Veneto  60-69              610635\n",
              "208  VEN   Veneto  70-79              494721\n",
              "209  VEN   Veneto    80+              375784\n",
              "\n",
              "[210 rows x 4 columns]"
            ],
            "text/html": [
              "\n",
              "  <div id=\"df-6caf2493-6f42-4f58-969b-725830a13852\">\n",
              "    <div class=\"colab-df-container\">\n",
              "      <div>\n",
              "<style scoped>\n",
              "    .dataframe tbody tr th:only-of-type {\n",
              "        vertical-align: middle;\n",
              "    }\n",
              "\n",
              "    .dataframe tbody tr th {\n",
              "        vertical-align: top;\n",
              "    }\n",
              "\n",
              "    .dataframe thead th {\n",
              "        text-align: right;\n",
              "    }\n",
              "</style>\n",
              "<table border=\"1\" class=\"dataframe\">\n",
              "  <thead>\n",
              "    <tr style=\"text-align: right;\">\n",
              "      <th></th>\n",
              "      <th>area</th>\n",
              "      <th>reg</th>\n",
              "      <th>eta</th>\n",
              "      <th>totale_popolazione</th>\n",
              "    </tr>\n",
              "  </thead>\n",
              "  <tbody>\n",
              "    <tr>\n",
              "      <th>0</th>\n",
              "      <td>ABR</td>\n",
              "      <td>Abruzzo</td>\n",
              "      <td>00-04</td>\n",
              "      <td>37923</td>\n",
              "    </tr>\n",
              "    <tr>\n",
              "      <th>1</th>\n",
              "      <td>ABR</td>\n",
              "      <td>Abruzzo</td>\n",
              "      <td>05-11</td>\n",
              "      <td>76431</td>\n",
              "    </tr>\n",
              "    <tr>\n",
              "      <th>2</th>\n",
              "      <td>ABR</td>\n",
              "      <td>Abruzzo</td>\n",
              "      <td>12-19</td>\n",
              "      <td>94727</td>\n",
              "    </tr>\n",
              "    <tr>\n",
              "      <th>3</th>\n",
              "      <td>ABR</td>\n",
              "      <td>Abruzzo</td>\n",
              "      <td>20-29</td>\n",
              "      <td>125230</td>\n",
              "    </tr>\n",
              "    <tr>\n",
              "      <th>4</th>\n",
              "      <td>ABR</td>\n",
              "      <td>Abruzzo</td>\n",
              "      <td>30-39</td>\n",
              "      <td>146965</td>\n",
              "    </tr>\n",
              "    <tr>\n",
              "      <th>...</th>\n",
              "      <td>...</td>\n",
              "      <td>...</td>\n",
              "      <td>...</td>\n",
              "      <td>...</td>\n",
              "    </tr>\n",
              "    <tr>\n",
              "      <th>205</th>\n",
              "      <td>VEN</td>\n",
              "      <td>Veneto</td>\n",
              "      <td>40-49</td>\n",
              "      <td>715790</td>\n",
              "    </tr>\n",
              "    <tr>\n",
              "      <th>206</th>\n",
              "      <td>VEN</td>\n",
              "      <td>Veneto</td>\n",
              "      <td>50-59</td>\n",
              "      <td>806474</td>\n",
              "    </tr>\n",
              "    <tr>\n",
              "      <th>207</th>\n",
              "      <td>VEN</td>\n",
              "      <td>Veneto</td>\n",
              "      <td>60-69</td>\n",
              "      <td>610635</td>\n",
              "    </tr>\n",
              "    <tr>\n",
              "      <th>208</th>\n",
              "      <td>VEN</td>\n",
              "      <td>Veneto</td>\n",
              "      <td>70-79</td>\n",
              "      <td>494721</td>\n",
              "    </tr>\n",
              "    <tr>\n",
              "      <th>209</th>\n",
              "      <td>VEN</td>\n",
              "      <td>Veneto</td>\n",
              "      <td>80+</td>\n",
              "      <td>375784</td>\n",
              "    </tr>\n",
              "  </tbody>\n",
              "</table>\n",
              "<p>210 rows × 4 columns</p>\n",
              "</div>\n",
              "      <button class=\"colab-df-convert\" onclick=\"convertToInteractive('df-6caf2493-6f42-4f58-969b-725830a13852')\"\n",
              "              title=\"Convert this dataframe to an interactive table.\"\n",
              "              style=\"display:none;\">\n",
              "        \n",
              "  <svg xmlns=\"http://www.w3.org/2000/svg\" height=\"24px\"viewBox=\"0 0 24 24\"\n",
              "       width=\"24px\">\n",
              "    <path d=\"M0 0h24v24H0V0z\" fill=\"none\"/>\n",
              "    <path d=\"M18.56 5.44l.94 2.06.94-2.06 2.06-.94-2.06-.94-.94-2.06-.94 2.06-2.06.94zm-11 1L8.5 8.5l.94-2.06 2.06-.94-2.06-.94L8.5 2.5l-.94 2.06-2.06.94zm10 10l.94 2.06.94-2.06 2.06-.94-2.06-.94-.94-2.06-.94 2.06-2.06.94z\"/><path d=\"M17.41 7.96l-1.37-1.37c-.4-.4-.92-.59-1.43-.59-.52 0-1.04.2-1.43.59L10.3 9.45l-7.72 7.72c-.78.78-.78 2.05 0 2.83L4 21.41c.39.39.9.59 1.41.59.51 0 1.02-.2 1.41-.59l7.78-7.78 2.81-2.81c.8-.78.8-2.07 0-2.86zM5.41 20L4 18.59l7.72-7.72 1.47 1.35L5.41 20z\"/>\n",
              "  </svg>\n",
              "      </button>\n",
              "      \n",
              "  <style>\n",
              "    .colab-df-container {\n",
              "      display:flex;\n",
              "      flex-wrap:wrap;\n",
              "      gap: 12px;\n",
              "    }\n",
              "\n",
              "    .colab-df-convert {\n",
              "      background-color: #E8F0FE;\n",
              "      border: none;\n",
              "      border-radius: 50%;\n",
              "      cursor: pointer;\n",
              "      display: none;\n",
              "      fill: #1967D2;\n",
              "      height: 32px;\n",
              "      padding: 0 0 0 0;\n",
              "      width: 32px;\n",
              "    }\n",
              "\n",
              "    .colab-df-convert:hover {\n",
              "      background-color: #E2EBFA;\n",
              "      box-shadow: 0px 1px 2px rgba(60, 64, 67, 0.3), 0px 1px 3px 1px rgba(60, 64, 67, 0.15);\n",
              "      fill: #174EA6;\n",
              "    }\n",
              "\n",
              "    [theme=dark] .colab-df-convert {\n",
              "      background-color: #3B4455;\n",
              "      fill: #D2E3FC;\n",
              "    }\n",
              "\n",
              "    [theme=dark] .colab-df-convert:hover {\n",
              "      background-color: #434B5C;\n",
              "      box-shadow: 0px 1px 3px 1px rgba(0, 0, 0, 0.15);\n",
              "      filter: drop-shadow(0px 1px 2px rgba(0, 0, 0, 0.3));\n",
              "      fill: #FFFFFF;\n",
              "    }\n",
              "  </style>\n",
              "\n",
              "      <script>\n",
              "        const buttonEl =\n",
              "          document.querySelector('#df-6caf2493-6f42-4f58-969b-725830a13852 button.colab-df-convert');\n",
              "        buttonEl.style.display =\n",
              "          google.colab.kernel.accessAllowed ? 'block' : 'none';\n",
              "\n",
              "        async function convertToInteractive(key) {\n",
              "          const element = document.querySelector('#df-6caf2493-6f42-4f58-969b-725830a13852');\n",
              "          const dataTable =\n",
              "            await google.colab.kernel.invokeFunction('convertToInteractive',\n",
              "                                                     [key], {});\n",
              "          if (!dataTable) return;\n",
              "\n",
              "          const docLinkHtml = 'Like what you see? Visit the ' +\n",
              "            '<a target=\"_blank\" href=https://colab.research.google.com/notebooks/data_table.ipynb>data table notebook</a>'\n",
              "            + ' to learn more about interactive tables.';\n",
              "          element.innerHTML = '';\n",
              "          dataTable['output_type'] = 'display_data';\n",
              "          await google.colab.output.renderOutput(dataTable, element);\n",
              "          const docLink = document.createElement('div');\n",
              "          docLink.innerHTML = docLinkHtml;\n",
              "          element.appendChild(docLink);\n",
              "        }\n",
              "      </script>\n",
              "    </div>\n",
              "  </div>\n",
              "  "
            ]
          },
          "metadata": {},
          "execution_count": 2
        }
      ]
    },
    {
      "cell_type": "markdown",
      "source": [
        "il numero di record presente nel file"
      ],
      "metadata": {
        "id": "xQ518seHXBqb"
      }
    },
    {
      "cell_type": "code",
      "source": [
        "len(df)"
      ],
      "metadata": {
        "colab": {
          "base_uri": "https://localhost:8080/"
        },
        "id": "QrIgbGysXCE0",
        "outputId": "3be7f872-0bed-4124-fcc1-c8af4563d8cb"
      },
      "execution_count": null,
      "outputs": [
        {
          "output_type": "execute_result",
          "data": {
            "text/plain": [
              "210"
            ]
          },
          "metadata": {},
          "execution_count": 3
        }
      ]
    },
    {
      "cell_type": "markdown",
      "source": [
        "2. il numero di regioni presente nel file"
      ],
      "metadata": {
        "id": "4yspkB_hXCSc"
      }
    },
    {
      "cell_type": "code",
      "source": [
        "len(set(df[\"reg\"]))"
      ],
      "metadata": {
        "id": "CL9lT74fXCxt",
        "colab": {
          "base_uri": "https://localhost:8080/"
        },
        "outputId": "cbec3225-8825-49ea-f5ac-fbc99e6c8cc8"
      },
      "execution_count": null,
      "outputs": [
        {
          "output_type": "execute_result",
          "data": {
            "text/plain": [
              "21"
            ]
          },
          "metadata": {},
          "execution_count": 4
        }
      ]
    },
    {
      "cell_type": "markdown",
      "source": [
        "3. il numero di abitanti di ogni regione. Ordinare in ordine decrescente sul numero di abitanti"
      ],
      "metadata": {
        "id": "FFRailwfXDwD"
      }
    },
    {
      "cell_type": "code",
      "source": [
        "dfabitanti = df.groupby(\"reg\")[[\"totale_popolazione\"]].sum().sort_values(by = \"totale_popolazione\", ascending = False).reset_index()\n",
        "dfabitanti"
      ],
      "metadata": {
        "id": "wzbBjmJ5XFhk"
      },
      "execution_count": null,
      "outputs": []
    },
    {
      "cell_type": "markdown",
      "source": [
        "4. la regione con il numero di abitanti più alto"
      ],
      "metadata": {
        "id": "sU56b95SXDp9"
      }
    },
    {
      "cell_type": "code",
      "source": [
        "dfabitanti[(dfabitanti[\"totale_popolazione\"]) == (dfabitanti[\"totale_popolazione\"].max())]"
      ],
      "metadata": {
        "id": "pdTcUruvXF97"
      },
      "execution_count": null,
      "outputs": []
    },
    {
      "cell_type": "markdown",
      "source": [
        "5. il numero medio di abitanti delle regioni"
      ],
      "metadata": {
        "id": "0EutaCeVXDkN"
      }
    },
    {
      "cell_type": "code",
      "source": [
        "dfmediaAbitanti = dfabitanti[\"totale_popolazione\"].mean()\n",
        "dfmediaAbitanti"
      ],
      "metadata": {
        "id": "JrD5NvGUXHSr"
      },
      "execution_count": null,
      "outputs": []
    },
    {
      "cell_type": "markdown",
      "source": [
        "6. le regioni che hanno più abitanti della media degli abitanti delle regioni"
      ],
      "metadata": {
        "id": "AK3UZ8aUXDek"
      }
    },
    {
      "cell_type": "code",
      "source": [
        "dfabitanti[dfabitanti[\"totale_popolazione\"] > dfmediaAbitanti]"
      ],
      "metadata": {
        "id": "cKHr_qoxXHwr"
      },
      "execution_count": null,
      "outputs": []
    },
    {
      "cell_type": "markdown",
      "source": [
        "7. la regione che ha più abitanti nella fascia 12-19"
      ],
      "metadata": {
        "id": "IjtYCipRXLKH"
      }
    },
    {
      "cell_type": "code",
      "source": [
        "dfetada12a19 = df[df[\"eta\"] == \"12-19\"]\n",
        "dfetada12a19[dfetada12a19[\"totale_popolazione\"] == dfetada12a19[\"totale_popolazione\"].max()]"
      ],
      "metadata": {
        "id": "cJLJAeZhXIE7"
      },
      "execution_count": null,
      "outputs": []
    },
    {
      "cell_type": "markdown",
      "source": [
        "8. il numero di abitanti per ogni fascia d'età"
      ],
      "metadata": {
        "id": "IXFmyRhiXLnX"
      }
    },
    {
      "cell_type": "code",
      "source": [
        "dfabitantiEta = df.groupby(\"eta\")[[\"totale_popolazione\"]].sum().sort_values(by = \"totale_popolazione\", ascending = False).reset_index()\n",
        "dfabitantiEta"
      ],
      "metadata": {
        "id": "uLQe1bKcXIRr"
      },
      "execution_count": null,
      "outputs": []
    },
    {
      "cell_type": "markdown",
      "source": [
        "9. la fascia d'età con più abitanti"
      ],
      "metadata": {
        "id": "J8Tb6zZCXPZH"
      }
    },
    {
      "cell_type": "code",
      "source": [
        "dfabitantiEta[(dfabitantiEta[\"totale_popolazione\"]) == (dfabitantiEta[\"totale_popolazione\"].max())]"
      ],
      "metadata": {
        "id": "uZpnGEtUXIlr"
      },
      "execution_count": null,
      "outputs": []
    },
    {
      "cell_type": "markdown",
      "source": [
        "10.  un grafico a barre orizzontali per l'esercizio 3"
      ],
      "metadata": {
        "id": "DRkJy6P-XPC3"
      }
    },
    {
      "cell_type": "code",
      "source": [
        "import matplotlib.pyplot as plt"
      ],
      "metadata": {
        "id": "ItsdTQH_XI0k"
      },
      "execution_count": null,
      "outputs": []
    },
    {
      "cell_type": "code",
      "source": [
        "labels = dfabitantiEta['eta']\n",
        "dati = dfabitantiEta['totale_popolazione'] \n",
        "\n",
        "fig, ax = plt.subplots(figsize=(15,8))\n",
        "ax.barh(labels, dati, label='totale vaccinati in ogni regione')\n"
      ],
      "metadata": {
        "id": "cTrlqd0gGrKp",
        "colab": {
          "base_uri": "https://localhost:8080/",
          "height": 711
        },
        "outputId": "1af052be-0874-4bff-8930-a63d2cbfd27f"
      },
      "execution_count": 28,
      "outputs": [
        {
          "output_type": "execute_result",
          "data": {
            "text/plain": [
              "<BarContainer object of 10 artists>"
            ]
          },
          "metadata": {},
          "execution_count": 28
        },
        {
          "output_type": "display_data",
          "data": {
            "text/plain": [
              "<Figure size 1500x800 with 1 Axes>"
            ],
            "image/png": "[encoded data removed]"
          },
          "metadata": {}
        }
      ]
    },
    {
      "cell_type": "markdown",
      "source": [
        "11. un grafico a barre verticali per l'esercizio 8"
      ],
      "metadata": {
        "id": "HOO9W6FsXOxm"
      }
    },
    {
      "cell_type": "code",
      "source": [
        "labels = dfabitanti['reg']\n",
        "dati = dfabitanti['totale_popolazione'] \n",
        "\n",
        "fig, ax = plt.subplots(figsize=(15,8))\n",
        "ax.bar(labels, dati, label='totale vaccinati in ogni regione')\n"
      ],
      "metadata": {
        "id": "hl1vhYphXJB0",
        "colab": {
          "base_uri": "https://localhost:8080/",
          "height": 708
        },
        "outputId": "b0c90be1-e486-4dd8-dfbe-2f0fd95da3a4"
      },
      "execution_count": 29,
      "outputs": [
        {
          "output_type": "execute_result",
          "data": {
            "text/plain": [
              "<BarContainer object of 21 artists>"
            ]
          },
          "metadata": {},
          "execution_count": 29
        },
        {
          "output_type": "display_data",
          "data": {
            "text/plain": [
              "<Figure size 1500x800 with 1 Axes>"
            ],
            "image/png": "[encoded data removed]"
          },
          "metadata": {}
        }
      ]
    },
    {
      "cell_type": "markdown",
      "source": [
        "12. un grafico a torta per l'esercizio 3 che riporti le percentuali"
      ],
      "metadata": {
        "id": "o9Owd4QXXOju"
      }
    },
    {
      "cell_type": "code",
      "source": [
        "labels = dfabitanti['reg']\n",
        "dati = dfabitanti['totale_popolazione'] \n",
        "plt.figure(figsize=(16, 8))\n",
        "plt.pie(dati, labels=labels, autopct='%1.1f%%')\n",
        "plt.show()"
      ],
      "metadata": {
        "id": "0kP8ub5wXJW7"
      },
      "execution_count": null,
      "outputs": []
    }
  ]
}