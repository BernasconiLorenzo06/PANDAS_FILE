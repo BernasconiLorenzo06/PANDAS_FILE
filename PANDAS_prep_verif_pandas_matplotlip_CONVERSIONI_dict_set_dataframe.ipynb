{
  "nbformat": 4,
  "nbformat_minor": 0,
  "metadata": {
    "colab": {
      "provenance": [],
      "authorship_tag": "ABX9TyO/rh+RUugiFKEUFs5zWRbY",
      "include_colab_link": true
    },
    "kernelspec": {
      "name": "python3",
      "display_name": "Python 3"
    },
    "language_info": {
      "name": "python"
    }
  },
  "cells": [
    {
      "cell_type": "markdown",
      "metadata": {
        "id": "view-in-github",
        "colab_type": "text"
      },
      "source": [
        "<a href=\"https://colab.research.google.com/github/BernasconiLorenzo06/PANDAS_FILE/blob/main/PANDAS_prep_verif_pandas_matplotlip_CONVERSIONI_dict_set_dataframe.ipynb\" target=\"_parent\"><img src=\"https://colab.research.google.com/assets/colab-badge.svg\" alt=\"Open In Colab\"/></a>"
      ]
    },
    {
      "cell_type": "code",
      "execution_count": null,
      "metadata": {
        "colab": {
          "base_uri": "https://localhost:8080/"
        },
        "id": "_rEKs6Z8hoD9",
        "outputId": "3724f76e-b822-4486-9626-35984be4a6ca"
      },
      "outputs": [
        {
          "output_type": "stream",
          "name": "stdout",
          "text": [
            "Mounted at /content/drive\n"
          ]
        }
      ],
      "source": [
        "from google.colab import drive\n",
        "drive.mount('/content/drive')\n",
        "import pandas as pd"
      ]
    },
    {
      "cell_type": "code",
      "source": [
        "df = pd.read_csv(\"https://raw.githubusercontent.com/wtitze/4E/main/prime_titles.csv\")\n",
        "df"
      ],
      "metadata": {
        "id": "BXrg5k3aiJWO"
      },
      "execution_count": null,
      "outputs": []
    },
    {
      "cell_type": "markdown",
      "source": [
        "creare un dizionario con il numero di film per ogni lingua\n",
        "\n",
        "\n",
        "\n",
        "contare quante lingue ci sono"
      ],
      "metadata": {
        "id": "mZ7rnRi3lysH"
      }
    },
    {
      "cell_type": "code",
      "source": [
        "dizionario = df.groupby(\"Language\")[[\"Name of the show\"]].count().reset_index().dropna()\n",
        "dizionario1 = dict(zip(dizionario[\"Language\"],dizionario[\"Name of the show\"]))\n",
        "dizionario1"
      ],
      "metadata": {
        "id": "NN5EwJ7NlzZj"
      },
      "execution_count": null,
      "outputs": []
    },
    {
      "cell_type": "code",
      "source": [
        "len(set(df[\"Language\"]))"
      ],
      "metadata": {
        "colab": {
          "base_uri": "https://localhost:8080/"
        },
        "id": "Y3cCZbMYTHD_",
        "outputId": "6cd87a0c-c807-4f66-c33d-49e4ebec426e"
      },
      "execution_count": null,
      "outputs": [
        {
          "output_type": "execute_result",
          "data": {
            "text/plain": [
              "15"
            ]
          },
          "metadata": {},
          "execution_count": 39
        }
      ]
    },
    {
      "cell_type": "code",
      "source": [
        "dfdiz = pd.DataFrame(list(dizionario1.items()),columns = ['Language','Name of the show']) \n",
        "dfdiz\n"
      ],
      "metadata": {
        "id": "2-YqNDTTTVEL"
      },
      "execution_count": null,
      "outputs": []
    },
    {
      "cell_type": "markdown",
      "source": [
        "1. visualizzare le serie TV che hanno più di due stagioni"
      ],
      "metadata": {
        "id": "gUPFryaziVA9"
      }
    },
    {
      "cell_type": "code",
      "source": [
        "df[df[\"No of seasons available\"] == 2.0][[\"Name of the show\"]]"
      ],
      "metadata": {
        "id": "HOLVsYBjiUaA"
      },
      "execution_count": null,
      "outputs": []
    },
    {
      "cell_type": "markdown",
      "source": [
        "2. visualizzare il numero di film per ogni lingua"
      ],
      "metadata": {
        "id": "d2ndApFtiVkf"
      }
    },
    {
      "cell_type": "code",
      "source": [
        "dffilm = df.groupby(\"Language\")[[\"Name of the show\"]].count().sort_values(by = \"Name of the show\", ascending = False)\n",
        "dffilm"
      ],
      "metadata": {
        "id": "KxV8hiDtiVxX"
      },
      "execution_count": null,
      "outputs": []
    },
    {
      "cell_type": "markdown",
      "source": [
        "3. visualizzare il numero di show per ogni anno"
      ],
      "metadata": {
        "id": "hzD2sXiViV75"
      }
    },
    {
      "cell_type": "code",
      "source": [
        "dfanno = df.groupby(\"Year of release\")[[\"Name of the show\"]].count().sort_values(by = \"Name of the show\", ascending = False)\n",
        "dfanno"
      ],
      "metadata": {
        "id": "B04JYw_OiWL4"
      },
      "execution_count": null,
      "outputs": []
    },
    {
      "cell_type": "markdown",
      "source": [
        "4. visualizzare gli anni in cui sono stati prodotti meno di 40 show\n"
      ],
      "metadata": {
        "id": "L4oj5T9fiWVw"
      }
    },
    {
      "cell_type": "code",
      "source": [
        "dfanno[dfanno[\"Name of the show\"] < 40]"
      ],
      "metadata": {
        "id": "seRL-i0yiWqI"
      },
      "execution_count": null,
      "outputs": []
    },
    {
      "cell_type": "markdown",
      "source": [
        "5. visualizzare l'anno in cui sono stati prodotti più show"
      ],
      "metadata": {
        "id": "ma8vJV_XiXL4"
      }
    },
    {
      "cell_type": "code",
      "source": [
        "dfanno[dfanno[\"Name of the show\"] == dfanno[\"Name of the show\"].max()]"
      ],
      "metadata": {
        "id": "agign37viXqH"
      },
      "execution_count": null,
      "outputs": []
    },
    {
      "cell_type": "markdown",
      "source": [
        "6. visualizzare il numero di commedie in hindi del 2017"
      ],
      "metadata": {
        "id": "OLGpMz4RiYFA"
      }
    },
    {
      "cell_type": "code",
      "source": [
        "commedieHindi = df[df[\"Language\"] == \"Hindi\"]\n",
        "commedieHindi[commedieHindi[\"Year of release\"] == 2017.0]"
      ],
      "metadata": {
        "id": "yIwR4AWrimfE"
      },
      "execution_count": null,
      "outputs": []
    },
    {
      "cell_type": "markdown",
      "source": [
        "7. visualizzare il rating medio dei film di ogni lingua"
      ],
      "metadata": {
        "id": "DYNi1oCNim0b"
      }
    },
    {
      "cell_type": "code",
      "source": [
        "dfrating = df.groupby(\"Language\")[[\"IMDb rating\"]].mean().reset_index()\n",
        "dfrating"
      ],
      "metadata": {
        "id": "vgM3I2DZinGb"
      },
      "execution_count": null,
      "outputs": []
    },
    {
      "cell_type": "markdown",
      "source": [
        "9. visualizzare il grafico a barre orizzontali dell'esercizio 7"
      ],
      "metadata": {
        "id": "xji2NYGFincz"
      }
    },
    {
      "cell_type": "code",
      "source": [
        "import matplotlib.pyplot as plt"
      ],
      "metadata": {
        "id": "st_b84rSt-5f"
      },
      "execution_count": null,
      "outputs": []
    },
    {
      "cell_type": "code",
      "source": [
        "stringhe = dfrating[\"Language\"]\n",
        "dati = dfrating[\"IMDb rating\"]\n",
        "\n",
        "fig, ax = plt.subplots(figsize=(15,8))\n",
        "ax.barh(stringhe, dati, label='totale abitanti per regione', color = [\"red\", \"blue\", \"green\", \"yellow\", \"black\"])\n",
        "ax.set_ylabel('regioni')\n",
        "ax.set_xlabel('abitanti (in milioni)')\n",
        "ax.set_title('totale abitanti per regione')\n",
        "ax.legend()\n"
      ],
      "metadata": {
        "id": "aGpaM7pFinzD"
      },
      "execution_count": null,
      "outputs": []
    },
    {
      "cell_type": "markdown",
      "source": [
        "##PARTE DUE"
      ],
      "metadata": {
        "id": "b1SWrpIrGXRS"
      }
    },
    {
      "cell_type": "code",
      "source": [
        "df = pd.read_csv(\"https://raw.githubusercontent.com/wtitze/4E/main/netflix_titles.csv\")\n",
        "df.head()"
      ],
      "metadata": {
        "id": "Bbd6ZmUWH_nL"
      },
      "execution_count": null,
      "outputs": []
    },
    {
      "cell_type": "markdown",
      "source": [
        "1. il numero di film (movie)"
      ],
      "metadata": {
        "id": "EcahO_voGZdj"
      }
    },
    {
      "cell_type": "code",
      "source": [
        "df[df[\"type\"] == \"Movie\"].count()[\"title\"]"
      ],
      "metadata": {
        "id": "fbukosSNGu1C"
      },
      "execution_count": null,
      "outputs": []
    },
    {
      "cell_type": "markdown",
      "source": [
        "2. il numero di film di cui non si conosce la nazione"
      ],
      "metadata": {
        "id": "iCm-UiX1Gvo5"
      }
    },
    {
      "cell_type": "code",
      "source": [
        "df[df.country.isnull()][[\"title\"]].count()"
      ],
      "metadata": {
        "colab": {
          "base_uri": "https://localhost:8080/"
        },
        "id": "Oilne-rRG3mJ",
        "outputId": "1ec8dce2-90e4-4a33-8878-51cc24066389"
      },
      "execution_count": null,
      "outputs": [
        {
          "output_type": "execute_result",
          "data": {
            "text/plain": [
              "title    831\n",
              "dtype: int64"
            ]
          },
          "metadata": {},
          "execution_count": 5
        }
      ]
    },
    {
      "cell_type": "markdown",
      "source": [
        "3. il numero di tv show rilasciati del 2010 al 2015 (estremi compresi)"
      ],
      "metadata": {
        "id": "PO2X0WRCGvjz"
      }
    },
    {
      "cell_type": "code",
      "source": [
        "df[(df[\"release_year\"] >= 2010) & (df[\"release_year\"] <= 2015)]"
      ],
      "metadata": {
        "id": "HaLsF2JvGwFB"
      },
      "execution_count": null,
      "outputs": []
    },
    {
      "cell_type": "markdown",
      "source": [
        "4. i titoli delle docuseries"
      ],
      "metadata": {
        "id": "ah8p-le2GvhL"
      }
    },
    {
      "cell_type": "code",
      "source": [
        "df[df[\"listed_in\"].str.contains(\"Docuseries\")][[\"title\"]]"
      ],
      "metadata": {
        "id": "22CuZWVBGwgB"
      },
      "execution_count": null,
      "outputs": []
    },
    {
      "cell_type": "markdown",
      "source": [
        "5. i titoli dei TV show che hanno nel titolo la parola zombie"
      ],
      "metadata": {
        "id": "KD-Ae1mzGveZ"
      }
    },
    {
      "cell_type": "code",
      "source": [
        "dfTVShow = df[df[\"type\"] == \"TV Show\"]\n",
        "dfTVShow[dfTVShow[\"title\"].str.contains(\"Zombie\")]"
      ],
      "metadata": {
        "id": "K2AxMgEcGxOB"
      },
      "execution_count": null,
      "outputs": []
    },
    {
      "cell_type": "markdown",
      "source": [
        "6. i film che sono stati aggiunti nel settembre 2021"
      ],
      "metadata": {
        "id": "SvSw1OJdGvbS"
      }
    },
    {
      "cell_type": "code",
      "source": [
        "df[(df['date_added'].str.startswith(\"September\")) & (df['date_added'].str.endswith(\"2021\"))]"
      ],
      "metadata": {
        "id": "woBs59eHGxzR"
      },
      "execution_count": null,
      "outputs": []
    },
    {
      "cell_type": "markdown",
      "source": [
        "7. il numero di TV show iniziati in ogni anno"
      ],
      "metadata": {
        "id": "2p73PcsmGvXB"
      }
    },
    {
      "cell_type": "code",
      "source": [
        "dfTVShow = df[df[\"type\"] == \"TV Show\"]\n",
        "TVShowIniziati= dfTVShow.groupby(\"release_year\")[[\"title\"]].count().reset_index()\n",
        "TVShowIniziati"
      ],
      "metadata": {
        "id": "WKQrxRGxGyTi"
      },
      "execution_count": null,
      "outputs": []
    },
    {
      "cell_type": "markdown",
      "source": [
        "8. il grafico a barre verticali dell'esercizio 7"
      ],
      "metadata": {
        "id": "L2669nlnGvKJ"
      }
    },
    {
      "cell_type": "code",
      "source": [
        "labels = TVShowIniziati['release_year']\n",
        "dati = TVShowIniziati[\"title\"]\n",
        "\n",
        "fig, ax = plt.subplots(figsize=(15,8))\n",
        "ax.bar(labels, dati, label='totale vaccinati in ogni regione')"
      ],
      "metadata": {
        "id": "lxfpB2eZGyrZ"
      },
      "execution_count": null,
      "outputs": []
    },
    {
      "cell_type": "markdown",
      "source": [
        "9. il grafico a torta dell'esercizio 7"
      ],
      "metadata": {
        "id": "3M3z0nz-JmIx"
      }
    },
    {
      "cell_type": "code",
      "source": [
        "labels = TVShowIniziati['release_year']\n",
        "dati = TVShowIniziati[\"title\"]\n",
        "plt.figure(figsize=(16, 8))\n",
        "plt.pie(dati, labels=labels, autopct='%1.1f%%')\n",
        "plt.show()"
      ],
      "metadata": {
        "id": "2ROfmN9rJma9"
      },
      "execution_count": null,
      "outputs": []
    }
  ]
}