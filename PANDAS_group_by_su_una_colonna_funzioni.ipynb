{
  "nbformat": 4,
  "nbformat_minor": 0,
  "metadata": {
    "colab": {
      "provenance": [],
      "authorship_tag": "ABX9TyMRScLl3yP7ldkJwK+tlzF4",
      "include_colab_link": true
    },
    "kernelspec": {
      "name": "python3",
      "display_name": "Python 3"
    },
    "language_info": {
      "name": "python"
    }
  },
  "cells": [
    {
      "cell_type": "markdown",
      "metadata": {
        "id": "view-in-github",
        "colab_type": "text"
      },
      "source": [
        "<a href=\"https://colab.research.google.com/github/BernasconiLorenzo06/PANDAS_FILE/blob/main/PANDAS_group_by_su_una_colonna_funzioni.ipynb\" target=\"_parent\"><img src=\"https://colab.research.google.com/assets/colab-badge.svg\" alt=\"Open In Colab\"/></a>"
      ]
    },
    {
      "cell_type": "code",
      "execution_count": null,
      "metadata": {
        "colab": {
          "base_uri": "https://localhost:8080/",
          "height": 423
        },
        "id": "r_xQsUMYgpJe",
        "outputId": "6e773967-2dfd-4e8d-ea3a-10239995adb0"
      },
      "outputs": [
        {
          "output_type": "execute_result",
          "data": {
            "text/plain": [
              "     area             forn  numero_dosi data_consegna   N1    N2  ISTAT  \\\n",
              "0     ABR  Pfizer/BioNTech          135    2020-12-27  ITF  ITF1     13   \n",
              "1     ABR  Pfizer/BioNTech         7800    2020-12-30  ITF  ITF1     13   \n",
              "2     ABR  Pfizer/BioNTech         3900    2021-01-05  ITF  ITF1     13   \n",
              "3     ABR  Pfizer/BioNTech         3900    2021-01-07  ITF  ITF1     13   \n",
              "4     ABR  Pfizer/BioNTech         3900    2021-01-11  ITF  ITF1     13   \n",
              "...   ...              ...          ...           ...  ...   ...    ...   \n",
              "7673  VEN  Pfizer/BioNTech        77760    2022-12-21  ITH  ITH3      5   \n",
              "7674  VEN           Sanofi         4800    2023-01-10  ITH  ITH3      5   \n",
              "7675  VEN  Pfizer/BioNTech        14400    2023-01-30  ITH  ITH3      5   \n",
              "7676  VEN          Novavax         1000    2023-02-03  ITH  ITH3      5   \n",
              "7677  VEN  Pfizer/BioNTech         1170    2023-04-19  ITH  ITH3      5   \n",
              "\n",
              "          reg  \n",
              "0     Abruzzo  \n",
              "1     Abruzzo  \n",
              "2     Abruzzo  \n",
              "3     Abruzzo  \n",
              "4     Abruzzo  \n",
              "...       ...  \n",
              "7673   Veneto  \n",
              "7674   Veneto  \n",
              "7675   Veneto  \n",
              "7676   Veneto  \n",
              "7677   Veneto  \n",
              "\n",
              "[7678 rows x 8 columns]"
            ],
            "text/html": [
              "\n",
              "  <div id=\"df-8e9155e0-c23d-4203-8be0-b6ed763b1028\">\n",
              "    <div class=\"colab-df-container\">\n",
              "      <div>\n",
              "<style scoped>\n",
              "    .dataframe tbody tr th:only-of-type {\n",
              "        vertical-align: middle;\n",
              "    }\n",
              "\n",
              "    .dataframe tbody tr th {\n",
              "        vertical-align: top;\n",
              "    }\n",
              "\n",
              "    .dataframe thead th {\n",
              "        text-align: right;\n",
              "    }\n",
              "</style>\n",
              "<table border=\"1\" class=\"dataframe\">\n",
              "  <thead>\n",
              "    <tr style=\"text-align: right;\">\n",
              "      <th></th>\n",
              "      <th>area</th>\n",
              "      <th>forn</th>\n",
              "      <th>numero_dosi</th>\n",
              "      <th>data_consegna</th>\n",
              "      <th>N1</th>\n",
              "      <th>N2</th>\n",
              "      <th>ISTAT</th>\n",
              "      <th>reg</th>\n",
              "    </tr>\n",
              "  </thead>\n",
              "  <tbody>\n",
              "    <tr>\n",
              "      <th>0</th>\n",
              "      <td>ABR</td>\n",
              "      <td>Pfizer/BioNTech</td>\n",
              "      <td>135</td>\n",
              "      <td>2020-12-27</td>\n",
              "      <td>ITF</td>\n",
              "      <td>ITF1</td>\n",
              "      <td>13</td>\n",
              "      <td>Abruzzo</td>\n",
              "    </tr>\n",
              "    <tr>\n",
              "      <th>1</th>\n",
              "      <td>ABR</td>\n",
              "      <td>Pfizer/BioNTech</td>\n",
              "      <td>7800</td>\n",
              "      <td>2020-12-30</td>\n",
              "      <td>ITF</td>\n",
              "      <td>ITF1</td>\n",
              "      <td>13</td>\n",
              "      <td>Abruzzo</td>\n",
              "    </tr>\n",
              "    <tr>\n",
              "      <th>2</th>\n",
              "      <td>ABR</td>\n",
              "      <td>Pfizer/BioNTech</td>\n",
              "      <td>3900</td>\n",
              "      <td>2021-01-05</td>\n",
              "      <td>ITF</td>\n",
              "      <td>ITF1</td>\n",
              "      <td>13</td>\n",
              "      <td>Abruzzo</td>\n",
              "    </tr>\n",
              "    <tr>\n",
              "      <th>3</th>\n",
              "      <td>ABR</td>\n",
              "      <td>Pfizer/BioNTech</td>\n",
              "      <td>3900</td>\n",
              "      <td>2021-01-07</td>\n",
              "      <td>ITF</td>\n",
              "      <td>ITF1</td>\n",
              "      <td>13</td>\n",
              "      <td>Abruzzo</td>\n",
              "    </tr>\n",
              "    <tr>\n",
              "      <th>4</th>\n",
              "      <td>ABR</td>\n",
              "      <td>Pfizer/BioNTech</td>\n",
              "      <td>3900</td>\n",
              "      <td>2021-01-11</td>\n",
              "      <td>ITF</td>\n",
              "      <td>ITF1</td>\n",
              "      <td>13</td>\n",
              "      <td>Abruzzo</td>\n",
              "    </tr>\n",
              "    <tr>\n",
              "      <th>...</th>\n",
              "      <td>...</td>\n",
              "      <td>...</td>\n",
              "      <td>...</td>\n",
              "      <td>...</td>\n",
              "      <td>...</td>\n",
              "      <td>...</td>\n",
              "      <td>...</td>\n",
              "      <td>...</td>\n",
              "    </tr>\n",
              "    <tr>\n",
              "      <th>7673</th>\n",
              "      <td>VEN</td>\n",
              "      <td>Pfizer/BioNTech</td>\n",
              "      <td>77760</td>\n",
              "      <td>2022-12-21</td>\n",
              "      <td>ITH</td>\n",
              "      <td>ITH3</td>\n",
              "      <td>5</td>\n",
              "      <td>Veneto</td>\n",
              "    </tr>\n",
              "    <tr>\n",
              "      <th>7674</th>\n",
              "      <td>VEN</td>\n",
              "      <td>Sanofi</td>\n",
              "      <td>4800</td>\n",
              "      <td>2023-01-10</td>\n",
              "      <td>ITH</td>\n",
              "      <td>ITH3</td>\n",
              "      <td>5</td>\n",
              "      <td>Veneto</td>\n",
              "    </tr>\n",
              "    <tr>\n",
              "      <th>7675</th>\n",
              "      <td>VEN</td>\n",
              "      <td>Pfizer/BioNTech</td>\n",
              "      <td>14400</td>\n",
              "      <td>2023-01-30</td>\n",
              "      <td>ITH</td>\n",
              "      <td>ITH3</td>\n",
              "      <td>5</td>\n",
              "      <td>Veneto</td>\n",
              "    </tr>\n",
              "    <tr>\n",
              "      <th>7676</th>\n",
              "      <td>VEN</td>\n",
              "      <td>Novavax</td>\n",
              "      <td>1000</td>\n",
              "      <td>2023-02-03</td>\n",
              "      <td>ITH</td>\n",
              "      <td>ITH3</td>\n",
              "      <td>5</td>\n",
              "      <td>Veneto</td>\n",
              "    </tr>\n",
              "    <tr>\n",
              "      <th>7677</th>\n",
              "      <td>VEN</td>\n",
              "      <td>Pfizer/BioNTech</td>\n",
              "      <td>1170</td>\n",
              "      <td>2023-04-19</td>\n",
              "      <td>ITH</td>\n",
              "      <td>ITH3</td>\n",
              "      <td>5</td>\n",
              "      <td>Veneto</td>\n",
              "    </tr>\n",
              "  </tbody>\n",
              "</table>\n",
              "<p>7678 rows × 8 columns</p>\n",
              "</div>\n",
              "      <button class=\"colab-df-convert\" onclick=\"convertToInteractive('df-8e9155e0-c23d-4203-8be0-b6ed763b1028')\"\n",
              "              title=\"Convert this dataframe to an interactive table.\"\n",
              "              style=\"display:none;\">\n",
              "        \n",
              "  <svg xmlns=\"http://www.w3.org/2000/svg\" height=\"24px\"viewBox=\"0 0 24 24\"\n",
              "       width=\"24px\">\n",
              "    <path d=\"M0 0h24v24H0V0z\" fill=\"none\"/>\n",
              "    <path d=\"M18.56 5.44l.94 2.06.94-2.06 2.06-.94-2.06-.94-.94-2.06-.94 2.06-2.06.94zm-11 1L8.5 8.5l.94-2.06 2.06-.94-2.06-.94L8.5 2.5l-.94 2.06-2.06.94zm10 10l.94 2.06.94-2.06 2.06-.94-2.06-.94-.94-2.06-.94 2.06-2.06.94z\"/><path d=\"M17.41 7.96l-1.37-1.37c-.4-.4-.92-.59-1.43-.59-.52 0-1.04.2-1.43.59L10.3 9.45l-7.72 7.72c-.78.78-.78 2.05 0 2.83L4 21.41c.39.39.9.59 1.41.59.51 0 1.02-.2 1.41-.59l7.78-7.78 2.81-2.81c.8-.78.8-2.07 0-2.86zM5.41 20L4 18.59l7.72-7.72 1.47 1.35L5.41 20z\"/>\n",
              "  </svg>\n",
              "      </button>\n",
              "      \n",
              "  <style>\n",
              "    .colab-df-container {\n",
              "      display:flex;\n",
              "      flex-wrap:wrap;\n",
              "      gap: 12px;\n",
              "    }\n",
              "\n",
              "    .colab-df-convert {\n",
              "      background-color: #E8F0FE;\n",
              "      border: none;\n",
              "      border-radius: 50%;\n",
              "      cursor: pointer;\n",
              "      display: none;\n",
              "      fill: #1967D2;\n",
              "      height: 32px;\n",
              "      padding: 0 0 0 0;\n",
              "      width: 32px;\n",
              "    }\n",
              "\n",
              "    .colab-df-convert:hover {\n",
              "      background-color: #E2EBFA;\n",
              "      box-shadow: 0px 1px 2px rgba(60, 64, 67, 0.3), 0px 1px 3px 1px rgba(60, 64, 67, 0.15);\n",
              "      fill: #174EA6;\n",
              "    }\n",
              "\n",
              "    [theme=dark] .colab-df-convert {\n",
              "      background-color: #3B4455;\n",
              "      fill: #D2E3FC;\n",
              "    }\n",
              "\n",
              "    [theme=dark] .colab-df-convert:hover {\n",
              "      background-color: #434B5C;\n",
              "      box-shadow: 0px 1px 3px 1px rgba(0, 0, 0, 0.15);\n",
              "      filter: drop-shadow(0px 1px 2px rgba(0, 0, 0, 0.3));\n",
              "      fill: #FFFFFF;\n",
              "    }\n",
              "  </style>\n",
              "\n",
              "      <script>\n",
              "        const buttonEl =\n",
              "          document.querySelector('#df-8e9155e0-c23d-4203-8be0-b6ed763b1028 button.colab-df-convert');\n",
              "        buttonEl.style.display =\n",
              "          google.colab.kernel.accessAllowed ? 'block' : 'none';\n",
              "\n",
              "        async function convertToInteractive(key) {\n",
              "          const element = document.querySelector('#df-8e9155e0-c23d-4203-8be0-b6ed763b1028');\n",
              "          const dataTable =\n",
              "            await google.colab.kernel.invokeFunction('convertToInteractive',\n",
              "                                                     [key], {});\n",
              "          if (!dataTable) return;\n",
              "\n",
              "          const docLinkHtml = 'Like what you see? Visit the ' +\n",
              "            '<a target=\"_blank\" href=https://colab.research.google.com/notebooks/data_table.ipynb>data table notebook</a>'\n",
              "            + ' to learn more about interactive tables.';\n",
              "          element.innerHTML = '';\n",
              "          dataTable['output_type'] = 'display_data';\n",
              "          await google.colab.output.renderOutput(dataTable, element);\n",
              "          const docLink = document.createElement('div');\n",
              "          docLink.innerHTML = docLinkHtml;\n",
              "          element.appendChild(docLink);\n",
              "        }\n",
              "      </script>\n",
              "    </div>\n",
              "  </div>\n",
              "  "
            ]
          },
          "metadata": {},
          "execution_count": 2
        }
      ],
      "source": [
        "import pandas as pd\n",
        "df = pd.read_csv(\"https://raw.githubusercontent.com/italia/covid19-opendata-vaccini/master/dati/consegne-vaccini-latest.csv\")\n",
        "df"
      ]
    },
    {
      "cell_type": "markdown",
      "source": [
        "1. visualizzare il numero totale di record presenti nel file"
      ],
      "metadata": {
        "id": "eJ6QU4MSgzvc"
      }
    },
    {
      "cell_type": "code",
      "source": [
        "len(df)"
      ],
      "metadata": {
        "id": "5T0xt8sxiVf8"
      },
      "execution_count": null,
      "outputs": []
    },
    {
      "cell_type": "markdown",
      "source": [
        "2. visualizzare il numero di record presenti relativi ad una regione inserita dall'utente"
      ],
      "metadata": {
        "id": "9zfbfidqgzp0"
      }
    },
    {
      "cell_type": "code",
      "source": [
        "regione = input(\"inserire una regione   \")\n",
        "len(df[df[\"reg\"] == regione])"
      ],
      "metadata": {
        "id": "1NaHWxhoiXys"
      },
      "execution_count": null,
      "outputs": []
    },
    {
      "cell_type": "markdown",
      "source": [
        "3. modificare l'esercizio precedente per rispondere con un messaggio appropriato se la regione non è presente"
      ],
      "metadata": {
        "id": "8G3oSU4egzjj"
      }
    },
    {
      "cell_type": "code",
      "source": [
        "regioneInput = input(\"inserire una regione   \")\n",
        "if regioneInput in list(set(df[\"reg\"])):\n",
        "  print(\"regione presente  \")\n",
        "else:\n",
        "  print(\"regione  non presente  \")"
      ],
      "metadata": {
        "id": "DDub_XJmiYKL"
      },
      "execution_count": null,
      "outputs": []
    },
    {
      "cell_type": "code",
      "source": [],
      "metadata": {
        "id": "JvLs8h8fourc"
      },
      "execution_count": null,
      "outputs": []
    },
    {
      "cell_type": "markdown",
      "source": [
        "4. visualizzare il numero totale di vaccini consegnati in una regione inserita dall'utente"
      ],
      "metadata": {
        "id": "9YYFGAmVgzdm"
      }
    },
    {
      "cell_type": "code",
      "source": [
        "regioneInput = input(\"inserire una regione   \")\n",
        "df[df[\"reg\"] == regioneInput].groupby(\"reg\")[[\"numero_dosi\"]].sum()\n"
      ],
      "metadata": {
        "colab": {
          "base_uri": "https://localhost:8080/",
          "height": 129
        },
        "id": "3I_1kRIhj_KN",
        "outputId": "9e623a67-4128-4079-f278-9ba04c03fb40"
      },
      "execution_count": null,
      "outputs": [
        {
          "name": "stdout",
          "output_type": "stream",
          "text": [
            "inserire una regione   Lombardia\n"
          ]
        },
        {
          "output_type": "execute_result",
          "data": {
            "text/plain": [
              "           numero_dosi\n",
              "reg                   \n",
              "Lombardia     28003529"
            ],
            "text/html": [
              "\n",
              "  <div id=\"df-916b6bf8-f61c-427d-8c8f-8e19c49cf430\">\n",
              "    <div class=\"colab-df-container\">\n",
              "      <div>\n",
              "<style scoped>\n",
              "    .dataframe tbody tr th:only-of-type {\n",
              "        vertical-align: middle;\n",
              "    }\n",
              "\n",
              "    .dataframe tbody tr th {\n",
              "        vertical-align: top;\n",
              "    }\n",
              "\n",
              "    .dataframe thead th {\n",
              "        text-align: right;\n",
              "    }\n",
              "</style>\n",
              "<table border=\"1\" class=\"dataframe\">\n",
              "  <thead>\n",
              "    <tr style=\"text-align: right;\">\n",
              "      <th></th>\n",
              "      <th>numero_dosi</th>\n",
              "    </tr>\n",
              "    <tr>\n",
              "      <th>reg</th>\n",
              "      <th></th>\n",
              "    </tr>\n",
              "  </thead>\n",
              "  <tbody>\n",
              "    <tr>\n",
              "      <th>Lombardia</th>\n",
              "      <td>28003529</td>\n",
              "    </tr>\n",
              "  </tbody>\n",
              "</table>\n",
              "</div>\n",
              "      <button class=\"colab-df-convert\" onclick=\"convertToInteractive('df-916b6bf8-f61c-427d-8c8f-8e19c49cf430')\"\n",
              "              title=\"Convert this dataframe to an interactive table.\"\n",
              "              style=\"display:none;\">\n",
              "        \n",
              "  <svg xmlns=\"http://www.w3.org/2000/svg\" height=\"24px\"viewBox=\"0 0 24 24\"\n",
              "       width=\"24px\">\n",
              "    <path d=\"M0 0h24v24H0V0z\" fill=\"none\"/>\n",
              "    <path d=\"M18.56 5.44l.94 2.06.94-2.06 2.06-.94-2.06-.94-.94-2.06-.94 2.06-2.06.94zm-11 1L8.5 8.5l.94-2.06 2.06-.94-2.06-.94L8.5 2.5l-.94 2.06-2.06.94zm10 10l.94 2.06.94-2.06 2.06-.94-2.06-.94-.94-2.06-.94 2.06-2.06.94z\"/><path d=\"M17.41 7.96l-1.37-1.37c-.4-.4-.92-.59-1.43-.59-.52 0-1.04.2-1.43.59L10.3 9.45l-7.72 7.72c-.78.78-.78 2.05 0 2.83L4 21.41c.39.39.9.59 1.41.59.51 0 1.02-.2 1.41-.59l7.78-7.78 2.81-2.81c.8-.78.8-2.07 0-2.86zM5.41 20L4 18.59l7.72-7.72 1.47 1.35L5.41 20z\"/>\n",
              "  </svg>\n",
              "      </button>\n",
              "      \n",
              "  <style>\n",
              "    .colab-df-container {\n",
              "      display:flex;\n",
              "      flex-wrap:wrap;\n",
              "      gap: 12px;\n",
              "    }\n",
              "\n",
              "    .colab-df-convert {\n",
              "      background-color: #E8F0FE;\n",
              "      border: none;\n",
              "      border-radius: 50%;\n",
              "      cursor: pointer;\n",
              "      display: none;\n",
              "      fill: #1967D2;\n",
              "      height: 32px;\n",
              "      padding: 0 0 0 0;\n",
              "      width: 32px;\n",
              "    }\n",
              "\n",
              "    .colab-df-convert:hover {\n",
              "      background-color: #E2EBFA;\n",
              "      box-shadow: 0px 1px 2px rgba(60, 64, 67, 0.3), 0px 1px 3px 1px rgba(60, 64, 67, 0.15);\n",
              "      fill: #174EA6;\n",
              "    }\n",
              "\n",
              "    [theme=dark] .colab-df-convert {\n",
              "      background-color: #3B4455;\n",
              "      fill: #D2E3FC;\n",
              "    }\n",
              "\n",
              "    [theme=dark] .colab-df-convert:hover {\n",
              "      background-color: #434B5C;\n",
              "      box-shadow: 0px 1px 3px 1px rgba(0, 0, 0, 0.15);\n",
              "      filter: drop-shadow(0px 1px 2px rgba(0, 0, 0, 0.3));\n",
              "      fill: #FFFFFF;\n",
              "    }\n",
              "  </style>\n",
              "\n",
              "      <script>\n",
              "        const buttonEl =\n",
              "          document.querySelector('#df-916b6bf8-f61c-427d-8c8f-8e19c49cf430 button.colab-df-convert');\n",
              "        buttonEl.style.display =\n",
              "          google.colab.kernel.accessAllowed ? 'block' : 'none';\n",
              "\n",
              "        async function convertToInteractive(key) {\n",
              "          const element = document.querySelector('#df-916b6bf8-f61c-427d-8c8f-8e19c49cf430');\n",
              "          const dataTable =\n",
              "            await google.colab.kernel.invokeFunction('convertToInteractive',\n",
              "                                                     [key], {});\n",
              "          if (!dataTable) return;\n",
              "\n",
              "          const docLinkHtml = 'Like what you see? Visit the ' +\n",
              "            '<a target=\"_blank\" href=https://colab.research.google.com/notebooks/data_table.ipynb>data table notebook</a>'\n",
              "            + ' to learn more about interactive tables.';\n",
              "          element.innerHTML = '';\n",
              "          dataTable['output_type'] = 'display_data';\n",
              "          await google.colab.output.renderOutput(dataTable, element);\n",
              "          const docLink = document.createElement('div');\n",
              "          docLink.innerHTML = docLinkHtml;\n",
              "          element.appendChild(docLink);\n",
              "        }\n",
              "      </script>\n",
              "    </div>\n",
              "  </div>\n",
              "  "
            ]
          },
          "metadata": {},
          "execution_count": 11
        }
      ]
    },
    {
      "cell_type": "markdown",
      "source": [
        "#FUNZIONE crea la funzione che moltiplichi il numero di dosi per un numero"
      ],
      "metadata": {
        "id": "5EI817RmlGzr"
      }
    },
    {
      "cell_type": "code",
      "source": [
        "def moltiplicatore(n_dosi):\n",
        "  return n_dosi * 10"
      ],
      "metadata": {
        "id": "1NLz3U9jiYsT"
      },
      "execution_count": null,
      "outputs": []
    },
    {
      "cell_type": "markdown",
      "source": [
        "creiamo una colonna del dataframe dove vedremo il risultato della funzione"
      ],
      "metadata": {
        "id": "r4Tm0cR9ln9E"
      }
    },
    {
      "cell_type": "code",
      "source": [
        "df[\"moltiplicatore\"] = moltiplicatore(df[\"numero_dosi\"])\n",
        "df"
      ],
      "metadata": {
        "id": "X488TCoQlmnd"
      },
      "execution_count": null,
      "outputs": []
    },
    {
      "cell_type": "markdown",
      "source": [
        "5. visualizzare il numero totale di vaccini per ogni fornitore"
      ],
      "metadata": {
        "id": "rp2ukPL7gzX7"
      }
    },
    {
      "cell_type": "markdown",
      "source": [
        "6. visualizzare il numero di vaccini per ogni fornitore di una regione inserita dall'utente. Ordinare in ordine\n",
        "decrescente sul numero di vaccini"
      ],
      "metadata": {
        "id": "L84m1FkugzSX"
      }
    },
    {
      "cell_type": "markdown",
      "source": [
        "7. visualizzare le informazioni dell'esercizio 6 con un grafico a barre verticali e uno a barre orizzontali. Indicare in modo appropriato il titolo, la legenda e le informazioni presenti negli assi"
      ],
      "metadata": {
        "id": "hayWykxxgzM3"
      }
    },
    {
      "cell_type": "markdown",
      "source": [],
      "metadata": {
        "id": "fqh2bb6SgzHU"
      }
    },
    {
      "cell_type": "markdown",
      "source": [],
      "metadata": {
        "id": "xsmU6S8IgzCT"
      }
    },
    {
      "cell_type": "markdown",
      "source": [],
      "metadata": {
        "id": "l-rasg0ggy8v"
      }
    },
    {
      "cell_type": "markdown",
      "source": [],
      "metadata": {
        "id": "0410EHG7gy3b"
      }
    }
  ]
}