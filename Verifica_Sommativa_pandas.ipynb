{
  "nbformat": 4,
  "nbformat_minor": 0,
  "metadata": {
    "colab": {
      "provenance": [],
      "include_colab_link": true
    },
    "kernelspec": {
      "name": "python3",
      "display_name": "Python 3"
    },
    "language_info": {
      "name": "python"
    }
  },
  "cells": [
    {
      "cell_type": "markdown",
      "metadata": {
        "id": "view-in-github",
        "colab_type": "text"
      },
      "source": [
        "<a href=\"https://colab.research.google.com/github/BernasconiLorenzo06/PANDAS_FILE/blob/main/Verifica_Sommativa_pandas.ipynb\" target=\"_parent\"><img src=\"https://colab.research.google.com/assets/colab-badge.svg\" alt=\"Open In Colab\"/></a>"
      ]
    },
    {
      "cell_type": "markdown",
      "source": [
        "1. creare una lista chiamata LISTA1 con 100 numeri casuali pari compresi tra 100 e 200 senza list comprehesion"
      ],
      "metadata": {
        "id": "WG7yVR0DZ8ja"
      }
    },
    {
      "cell_type": "code",
      "execution_count": null,
      "metadata": {
        "id": "mQkkDGBHZ3Bd"
      },
      "outputs": [],
      "source": [
        "import random\n",
        "LISTA1 = []\n",
        "for num in range(0,100):\n",
        "  n = random.randint(100,200)\n",
        "  LISTA1.append(n)\n",
        "LISTA1"
      ]
    },
    {
      "cell_type": "markdown",
      "source": [
        "2. creare una lista chiamata LISTA2 con 100 numeri casuali pari compresi tra 100 e 200 con list comprehesion"
      ],
      "metadata": {
        "id": "ym-oiU5RawnI"
      }
    },
    {
      "cell_type": "code",
      "source": [
        "import random\n",
        "LISTA2 = [random.randint(100,200) for num in range(0,100)]\n",
        "LISTA2"
      ],
      "metadata": {
        "id": "jeZPFtnnaxxe"
      },
      "execution_count": null,
      "outputs": []
    },
    {
      "cell_type": "markdown",
      "source": [
        "3. creare una lista chiamara LISTA3 ottenuta dalla differenza (elemento per elemento) tra LISTA1 e LISTA2"
      ],
      "metadata": {
        "id": "H3IwPg_DbXS9"
      }
    },
    {
      "cell_type": "code",
      "source": [
        "LISTA3 = [LISTA1[indice]-LISTA2[indice] for indice in range(len(LISTA1))]\n",
        "LISTA3"
      ],
      "metadata": {
        "id": "jd0eIRYrbXAd"
      },
      "execution_count": null,
      "outputs": []
    },
    {
      "cell_type": "markdown",
      "source": [
        "4. visualizzare i primi 10 e gli ultimi 10 elementi di LISTA3 "
      ],
      "metadata": {
        "id": "f2Pkh6cpb4xt"
      }
    },
    {
      "cell_type": "code",
      "source": [
        "LISTA3 = LISTA3[:10]+LISTA3[-10:]\n",
        "LISTA3"
      ],
      "metadata": {
        "id": "FG9DsfNmb9p8"
      },
      "execution_count": null,
      "outputs": []
    },
    {
      "cell_type": "markdown",
      "source": [
        "5. visualizzare il numero di elementi maggiori a 150"
      ],
      "metadata": {
        "id": "SHmWmtYIdTia"
      }
    },
    {
      "cell_type": "code",
      "source": [
        "con = 0\n",
        "for i in LISTA1:\n",
        "    if i > 150:\n",
        "        con +=1\n",
        "con"
      ],
      "metadata": {
        "colab": {
          "base_uri": "https://localhost:8080/"
        },
        "id": "nRlzlZ_udTOT",
        "outputId": "dc0e87bf-86cd-40b7-c4fa-df8ada38c70c"
      },
      "execution_count": null,
      "outputs": [
        {
          "output_type": "execute_result",
          "data": {
            "text/plain": [
              "58"
            ]
          },
          "metadata": {},
          "execution_count": 5
        }
      ]
    },
    {
      "cell_type": "markdown",
      "source": [
        "8. caricare in un apposito dataframe di pandas chiamato 'aree' i dati presenti nel file csv"
      ],
      "metadata": {
        "id": "unrfBX4Egw5Q"
      }
    },
    {
      "cell_type": "code",
      "source": [
        "!pip install pandas"
      ],
      "metadata": {
        "id": "DaSj_3eFg9XG",
        "colab": {
          "base_uri": "https://localhost:8080/"
        },
        "outputId": "6dc4ddf8-4bf6-40c3-f00d-3de6b22befdb"
      },
      "execution_count": null,
      "outputs": [
        {
          "output_type": "stream",
          "name": "stdout",
          "text": [
            "Looking in indexes: https://pypi.org/simple, https://us-python.pkg.dev/colab-wheels/public/simple/\n",
            "Requirement already satisfied: pandas in /usr/local/lib/python3.10/dist-packages (1.5.3)\n",
            "Requirement already satisfied: python-dateutil>=2.8.1 in /usr/local/lib/python3.10/dist-packages (from pandas) (2.8.2)\n",
            "Requirement already satisfied: pytz>=2020.1 in /usr/local/lib/python3.10/dist-packages (from pandas) (2022.7.1)\n",
            "Requirement already satisfied: numpy>=1.21.0 in /usr/local/lib/python3.10/dist-packages (from pandas) (1.22.4)\n",
            "Requirement already satisfied: six>=1.5 in /usr/local/lib/python3.10/dist-packages (from python-dateutil>=2.8.1->pandas) (1.16.0)\n"
          ]
        }
      ]
    },
    {
      "cell_type": "code",
      "source": [
        "import pandas as pd"
      ],
      "metadata": {
        "id": "WCDA0BVvhCH1"
      },
      "execution_count": null,
      "outputs": []
    },
    {
      "cell_type": "code",
      "source": [
        "aree = pd.read_csv('/content/drive/MyDrive/Colab Notebooks/ds600_aree-del-territorio-del-comune-di-milano-dove-sono_c6at-33q9_final.csv', sep = ';')"
      ],
      "metadata": {
        "id": "SbhnSFjqgwbd"
      },
      "execution_count": null,
      "outputs": []
    },
    {
      "cell_type": "code",
      "source": [
        "aree"
      ],
      "metadata": {
        "id": "lDuuWp5RioSb",
        "colab": {
          "base_uri": "https://localhost:8080/",
          "height": 641
        },
        "outputId": "0597b743-c230-4998-d11e-110d78ade26d"
      },
      "execution_count": null,
      "outputs": [
        {
          "output_type": "execute_result",
          "data": {
            "text/plain": [
              "      CodicePratica                                  DenominazioneSito  \\\n",
              "0         151460128                                     Trianto s.r.l.   \n",
              "1         151469159                                Area Parco Comunale   \n",
              "2         151469329                                 PV ERG Petroli Spa   \n",
              "3         151469093                                            PV ESSO   \n",
              "4         151469225                      Cooperativa Verde Moscova Srl   \n",
              "...             ...                                                ...   \n",
              "1252      151469115                                           Area AEM   \n",
              "1253      151469545  Rimozione serbatoio interrato c/o stabile - Fa...   \n",
              "1254     1514610146                                   Area Via Paravia   \n",
              "1255     1514610159                            AREA VIA FRANCESCO NAVA   \n",
              "1256      151469088                                          PV TAMOIL   \n",
              "\n",
              "                        Indirizzo     X_gb     Y_gb  MUNICIPIO  ID_NIL  \\\n",
              "0               Via Trivulzio, 18  1511309  5034769        7.0    52.0   \n",
              "1       Via Concilio Vaticano, II  1511749  5039955        8.0    76.0   \n",
              "2                  Via Farini, 92  1514596  5038164        9.0    11.0   \n",
              "3                  Via Ornato, 84  1515043  5040874        9.0    14.0   \n",
              "4     Via Moscova/Fatebenesorelle  1514907  5036012        1.0     2.0   \n",
              "...                           ...      ...      ...        ...     ...   \n",
              "1252             Via Giordani, 54  1509676  5031960        6.0    48.0   \n",
              "1253          Via Montegrappa, 12  1514832  5036407        1.0     2.0   \n",
              "1254               Via Paravia, 3  1509893  5035186        7.0    60.0   \n",
              "1255       Via FRANCESCO NAVA, 34  1514767  5038054        9.0    11.0   \n",
              "1256             Via Cassinis, 16  1518104  5031449        4.0    35.0   \n",
              "\n",
              "                                                    NIL    Y_wgs84   X_wgs84  \\\n",
              "0                                            BANDE NERE  45.465506  9.144657   \n",
              "1                     QUARTO OGGIARO - VIALBA - MUSOCCO  45.512175  9.150410   \n",
              "2                                                 ISOLA  45.496003  9.186805   \n",
              "3     NIGUARDA - CA' GRANDA - PRATO CENTENARO - Q.RE...  45.520387  9.192609   \n",
              "4                                                 BRERA  45.476631  9.190716   \n",
              "...                                                 ...        ...       ...   \n",
              "1252     RONCHETTO SUL NAVIGLIO - Q.RE LODOVICO IL MORO  45.440249  9.123711   \n",
              "1253                                              BRERA  45.480184  9.189770   \n",
              "1254                                 STADIO - IPPODROMI  45.469277  9.126548   \n",
              "1255                                              ISOLA  45.495011  9.188991   \n",
              "1256                                    LODI - CORVETTO  45.435480  9.231446   \n",
              "\n",
              "                       Location  \n",
              "0     (45.46550625, 9.14465724)  \n",
              "1     (45.51217486, 9.15040954)  \n",
              "2     (45.49600281, 9.18680455)  \n",
              "3     (45.52038741, 9.19260947)  \n",
              "4     (45.47663147, 9.19071595)  \n",
              "...                         ...  \n",
              "1252  (45.44024893, 9.12371116)  \n",
              "1253  (45.48018428, 9.18976983)  \n",
              "1254  (45.46927731, 9.12654798)  \n",
              "1255  (45.49501077, 9.18899099)  \n",
              "1256  (45.43548046, 9.23144599)  \n",
              "\n",
              "[1257 rows x 11 columns]"
            ],
            "text/html": [
              "\n",
              "  <div id=\"df-8ab20117-2fe2-4925-be28-a53b361bbf8f\">\n",
              "    <div class=\"colab-df-container\">\n",
              "      <div>\n",
              "<style scoped>\n",
              "    .dataframe tbody tr th:only-of-type {\n",
              "        vertical-align: middle;\n",
              "    }\n",
              "\n",
              "    .dataframe tbody tr th {\n",
              "        vertical-align: top;\n",
              "    }\n",
              "\n",
              "    .dataframe thead th {\n",
              "        text-align: right;\n",
              "    }\n",
              "</style>\n",
              "<table border=\"1\" class=\"dataframe\">\n",
              "  <thead>\n",
              "    <tr style=\"text-align: right;\">\n",
              "      <th></th>\n",
              "      <th>CodicePratica</th>\n",
              "      <th>DenominazioneSito</th>\n",
              "      <th>Indirizzo</th>\n",
              "      <th>X_gb</th>\n",
              "      <th>Y_gb</th>\n",
              "      <th>MUNICIPIO</th>\n",
              "      <th>ID_NIL</th>\n",
              "      <th>NIL</th>\n",
              "      <th>Y_wgs84</th>\n",
              "      <th>X_wgs84</th>\n",
              "      <th>Location</th>\n",
              "    </tr>\n",
              "  </thead>\n",
              "  <tbody>\n",
              "    <tr>\n",
              "      <th>0</th>\n",
              "      <td>151460128</td>\n",
              "      <td>Trianto s.r.l.</td>\n",
              "      <td>Via Trivulzio, 18</td>\n",
              "      <td>1511309</td>\n",
              "      <td>5034769</td>\n",
              "      <td>7.0</td>\n",
              "      <td>52.0</td>\n",
              "      <td>BANDE NERE</td>\n",
              "      <td>45.465506</td>\n",
              "      <td>9.144657</td>\n",
              "      <td>(45.46550625, 9.14465724)</td>\n",
              "    </tr>\n",
              "    <tr>\n",
              "      <th>1</th>\n",
              "      <td>151469159</td>\n",
              "      <td>Area Parco Comunale</td>\n",
              "      <td>Via Concilio Vaticano, II</td>\n",
              "      <td>1511749</td>\n",
              "      <td>5039955</td>\n",
              "      <td>8.0</td>\n",
              "      <td>76.0</td>\n",
              "      <td>QUARTO OGGIARO - VIALBA - MUSOCCO</td>\n",
              "      <td>45.512175</td>\n",
              "      <td>9.150410</td>\n",
              "      <td>(45.51217486, 9.15040954)</td>\n",
              "    </tr>\n",
              "    <tr>\n",
              "      <th>2</th>\n",
              "      <td>151469329</td>\n",
              "      <td>PV ERG Petroli Spa</td>\n",
              "      <td>Via Farini, 92</td>\n",
              "      <td>1514596</td>\n",
              "      <td>5038164</td>\n",
              "      <td>9.0</td>\n",
              "      <td>11.0</td>\n",
              "      <td>ISOLA</td>\n",
              "      <td>45.496003</td>\n",
              "      <td>9.186805</td>\n",
              "      <td>(45.49600281, 9.18680455)</td>\n",
              "    </tr>\n",
              "    <tr>\n",
              "      <th>3</th>\n",
              "      <td>151469093</td>\n",
              "      <td>PV ESSO</td>\n",
              "      <td>Via Ornato, 84</td>\n",
              "      <td>1515043</td>\n",
              "      <td>5040874</td>\n",
              "      <td>9.0</td>\n",
              "      <td>14.0</td>\n",
              "      <td>NIGUARDA - CA' GRANDA - PRATO CENTENARO - Q.RE...</td>\n",
              "      <td>45.520387</td>\n",
              "      <td>9.192609</td>\n",
              "      <td>(45.52038741, 9.19260947)</td>\n",
              "    </tr>\n",
              "    <tr>\n",
              "      <th>4</th>\n",
              "      <td>151469225</td>\n",
              "      <td>Cooperativa Verde Moscova Srl</td>\n",
              "      <td>Via Moscova/Fatebenesorelle</td>\n",
              "      <td>1514907</td>\n",
              "      <td>5036012</td>\n",
              "      <td>1.0</td>\n",
              "      <td>2.0</td>\n",
              "      <td>BRERA</td>\n",
              "      <td>45.476631</td>\n",
              "      <td>9.190716</td>\n",
              "      <td>(45.47663147, 9.19071595)</td>\n",
              "    </tr>\n",
              "    <tr>\n",
              "      <th>...</th>\n",
              "      <td>...</td>\n",
              "      <td>...</td>\n",
              "      <td>...</td>\n",
              "      <td>...</td>\n",
              "      <td>...</td>\n",
              "      <td>...</td>\n",
              "      <td>...</td>\n",
              "      <td>...</td>\n",
              "      <td>...</td>\n",
              "      <td>...</td>\n",
              "      <td>...</td>\n",
              "    </tr>\n",
              "    <tr>\n",
              "      <th>1252</th>\n",
              "      <td>151469115</td>\n",
              "      <td>Area AEM</td>\n",
              "      <td>Via Giordani, 54</td>\n",
              "      <td>1509676</td>\n",
              "      <td>5031960</td>\n",
              "      <td>6.0</td>\n",
              "      <td>48.0</td>\n",
              "      <td>RONCHETTO SUL NAVIGLIO - Q.RE LODOVICO IL MORO</td>\n",
              "      <td>45.440249</td>\n",
              "      <td>9.123711</td>\n",
              "      <td>(45.44024893, 9.12371116)</td>\n",
              "    </tr>\n",
              "    <tr>\n",
              "      <th>1253</th>\n",
              "      <td>151469545</td>\n",
              "      <td>Rimozione serbatoio interrato c/o stabile - Fa...</td>\n",
              "      <td>Via Montegrappa, 12</td>\n",
              "      <td>1514832</td>\n",
              "      <td>5036407</td>\n",
              "      <td>1.0</td>\n",
              "      <td>2.0</td>\n",
              "      <td>BRERA</td>\n",
              "      <td>45.480184</td>\n",
              "      <td>9.189770</td>\n",
              "      <td>(45.48018428, 9.18976983)</td>\n",
              "    </tr>\n",
              "    <tr>\n",
              "      <th>1254</th>\n",
              "      <td>1514610146</td>\n",
              "      <td>Area Via Paravia</td>\n",
              "      <td>Via Paravia, 3</td>\n",
              "      <td>1509893</td>\n",
              "      <td>5035186</td>\n",
              "      <td>7.0</td>\n",
              "      <td>60.0</td>\n",
              "      <td>STADIO - IPPODROMI</td>\n",
              "      <td>45.469277</td>\n",
              "      <td>9.126548</td>\n",
              "      <td>(45.46927731, 9.12654798)</td>\n",
              "    </tr>\n",
              "    <tr>\n",
              "      <th>1255</th>\n",
              "      <td>1514610159</td>\n",
              "      <td>AREA VIA FRANCESCO NAVA</td>\n",
              "      <td>Via FRANCESCO NAVA, 34</td>\n",
              "      <td>1514767</td>\n",
              "      <td>5038054</td>\n",
              "      <td>9.0</td>\n",
              "      <td>11.0</td>\n",
              "      <td>ISOLA</td>\n",
              "      <td>45.495011</td>\n",
              "      <td>9.188991</td>\n",
              "      <td>(45.49501077, 9.18899099)</td>\n",
              "    </tr>\n",
              "    <tr>\n",
              "      <th>1256</th>\n",
              "      <td>151469088</td>\n",
              "      <td>PV TAMOIL</td>\n",
              "      <td>Via Cassinis, 16</td>\n",
              "      <td>1518104</td>\n",
              "      <td>5031449</td>\n",
              "      <td>4.0</td>\n",
              "      <td>35.0</td>\n",
              "      <td>LODI - CORVETTO</td>\n",
              "      <td>45.435480</td>\n",
              "      <td>9.231446</td>\n",
              "      <td>(45.43548046, 9.23144599)</td>\n",
              "    </tr>\n",
              "  </tbody>\n",
              "</table>\n",
              "<p>1257 rows × 11 columns</p>\n",
              "</div>\n",
              "      <button class=\"colab-df-convert\" onclick=\"convertToInteractive('df-8ab20117-2fe2-4925-be28-a53b361bbf8f')\"\n",
              "              title=\"Convert this dataframe to an interactive table.\"\n",
              "              style=\"display:none;\">\n",
              "        \n",
              "  <svg xmlns=\"http://www.w3.org/2000/svg\" height=\"24px\"viewBox=\"0 0 24 24\"\n",
              "       width=\"24px\">\n",
              "    <path d=\"M0 0h24v24H0V0z\" fill=\"none\"/>\n",
              "    <path d=\"M18.56 5.44l.94 2.06.94-2.06 2.06-.94-2.06-.94-.94-2.06-.94 2.06-2.06.94zm-11 1L8.5 8.5l.94-2.06 2.06-.94-2.06-.94L8.5 2.5l-.94 2.06-2.06.94zm10 10l.94 2.06.94-2.06 2.06-.94-2.06-.94-.94-2.06-.94 2.06-2.06.94z\"/><path d=\"M17.41 7.96l-1.37-1.37c-.4-.4-.92-.59-1.43-.59-.52 0-1.04.2-1.43.59L10.3 9.45l-7.72 7.72c-.78.78-.78 2.05 0 2.83L4 21.41c.39.39.9.59 1.41.59.51 0 1.02-.2 1.41-.59l7.78-7.78 2.81-2.81c.8-.78.8-2.07 0-2.86zM5.41 20L4 18.59l7.72-7.72 1.47 1.35L5.41 20z\"/>\n",
              "  </svg>\n",
              "      </button>\n",
              "      \n",
              "  <style>\n",
              "    .colab-df-container {\n",
              "      display:flex;\n",
              "      flex-wrap:wrap;\n",
              "      gap: 12px;\n",
              "    }\n",
              "\n",
              "    .colab-df-convert {\n",
              "      background-color: #E8F0FE;\n",
              "      border: none;\n",
              "      border-radius: 50%;\n",
              "      cursor: pointer;\n",
              "      display: none;\n",
              "      fill: #1967D2;\n",
              "      height: 32px;\n",
              "      padding: 0 0 0 0;\n",
              "      width: 32px;\n",
              "    }\n",
              "\n",
              "    .colab-df-convert:hover {\n",
              "      background-color: #E2EBFA;\n",
              "      box-shadow: 0px 1px 2px rgba(60, 64, 67, 0.3), 0px 1px 3px 1px rgba(60, 64, 67, 0.15);\n",
              "      fill: #174EA6;\n",
              "    }\n",
              "\n",
              "    [theme=dark] .colab-df-convert {\n",
              "      background-color: #3B4455;\n",
              "      fill: #D2E3FC;\n",
              "    }\n",
              "\n",
              "    [theme=dark] .colab-df-convert:hover {\n",
              "      background-color: #434B5C;\n",
              "      box-shadow: 0px 1px 3px 1px rgba(0, 0, 0, 0.15);\n",
              "      filter: drop-shadow(0px 1px 2px rgba(0, 0, 0, 0.3));\n",
              "      fill: #FFFFFF;\n",
              "    }\n",
              "  </style>\n",
              "\n",
              "      <script>\n",
              "        const buttonEl =\n",
              "          document.querySelector('#df-8ab20117-2fe2-4925-be28-a53b361bbf8f button.colab-df-convert');\n",
              "        buttonEl.style.display =\n",
              "          google.colab.kernel.accessAllowed ? 'block' : 'none';\n",
              "\n",
              "        async function convertToInteractive(key) {\n",
              "          const element = document.querySelector('#df-8ab20117-2fe2-4925-be28-a53b361bbf8f');\n",
              "          const dataTable =\n",
              "            await google.colab.kernel.invokeFunction('convertToInteractive',\n",
              "                                                     [key], {});\n",
              "          if (!dataTable) return;\n",
              "\n",
              "          const docLinkHtml = 'Like what you see? Visit the ' +\n",
              "            '<a target=\"_blank\" href=https://colab.research.google.com/notebooks/data_table.ipynb>data table notebook</a>'\n",
              "            + ' to learn more about interactive tables.';\n",
              "          element.innerHTML = '';\n",
              "          dataTable['output_type'] = 'display_data';\n",
              "          await google.colab.output.renderOutput(dataTable, element);\n",
              "          const docLink = document.createElement('div');\n",
              "          docLink.innerHTML = docLinkHtml;\n",
              "          element.appendChild(docLink);\n",
              "        }\n",
              "      </script>\n",
              "    </div>\n",
              "  </div>\n",
              "  "
            ]
          },
          "metadata": {},
          "execution_count": 9
        }
      ]
    },
    {
      "cell_type": "markdown",
      "source": [
        "9. dal dataframe costruire un dizionario che abbia come "
      ],
      "metadata": {
        "id": "Txu7MDiZiYAq"
      }
    },
    {
      "cell_type": "code",
      "source": [
        "dizioaree = aree.set_index('CodicePratica')['DenominazioneSito'].to_dict()"
      ],
      "metadata": {
        "id": "kMP0ePDKiX7D"
      },
      "execution_count": null,
      "outputs": []
    },
    {
      "cell_type": "code",
      "source": [
        "dizioaree"
      ],
      "metadata": {
        "id": "QgSRRHx5ixtR"
      },
      "execution_count": null,
      "outputs": []
    },
    {
      "cell_type": "markdown",
      "source": [
        "10. utilizzando il dizionario appena creato, visuallizare i valori di 'DenominazioneSito' compresi tra due valori inseriti dall'utente"
      ],
      "metadata": {
        "id": "y0PdD93Ei1c6"
      }
    },
    {
      "cell_type": "code",
      "source": [
        "v1 = int(input('inserisci un numero maggiore di 17 fino a 1514610448: '))\n",
        "v2 = int(input('inserisci un numero minore di 1514610448: '))\n",
        "if v2 < dizioaree.keys > v1:\n",
        "  dizioareec = v2 >dizioaree < v1\n",
        "dizioareec"
      ],
      "metadata": {
        "id": "fO1yYOSai1Vq"
      },
      "execution_count": null,
      "outputs": []
    },
    {
      "cell_type": "code",
      "source": [
        "valore_minimo = int(input(\"Inserisci il valore minimo: \"))\n",
        "valore_massimo = int(input(\"Inserisci il valore massimo: \"))\n",
        "\n",
        "for chiave, valore in dizioaree.items():\n",
        "    denominazione_sito = valore.keys()\n",
        "    if valore_minimo <= denominazione_sito <= valore_massimo:\n",
        "        print(denominazione_sito)\n"
      ],
      "metadata": {
        "id": "qtHW21qm4xBR"
      },
      "execution_count": null,
      "outputs": []
    },
    {
      "cell_type": "markdown",
      "source": [
        "11. utilizzando il dizionario appena creato, elinimnare i valori di \n",
        "'DenominazioneSito' compresi tra due valori inseriti dall'utente"
      ],
      "metadata": {
        "id": "9vgy34OPj8Yg"
      }
    },
    {
      "cell_type": "code",
      "source": [
        "dioziopop = dizioareec.pop(dizioareec)\n",
        "dioziopop"
      ],
      "metadata": {
        "id": "fBPKVcV5j8Ox"
      },
      "execution_count": null,
      "outputs": []
    },
    {
      "cell_type": "markdown",
      "source": [
        "13. contare il numero di elementi presenti nel dizionario modificato"
      ],
      "metadata": {
        "id": "JhzRRTy4kLi_"
      }
    },
    {
      "cell_type": "code",
      "source": [
        "dioziopop.count()"
      ],
      "metadata": {
        "id": "H5wGJBs5kLtZ"
      },
      "execution_count": null,
      "outputs": []
    },
    {
      "cell_type": "markdown",
      "source": [
        "14.visualizzare tutti i record che hanno la parola 'area' nella colonna 'DenominazioneSito'"
      ],
      "metadata": {
        "id": "W0MBNvI7kbxi"
      }
    },
    {
      "cell_type": "code",
      "source": [
        "aree[aree['DenominazioneSito'].str.contains('area')]"
      ],
      "metadata": {
        "id": "Z2xsNVrGkbfs"
      },
      "execution_count": null,
      "outputs": []
    },
    {
      "cell_type": "markdown",
      "source": [
        "15. caricare in un nuovo dataframe chiamatp 'areePerMunicipio' il numero di aree da bonificare per ogni municipio"
      ],
      "metadata": {
        "id": "YL4RBjAglJIv"
      }
    },
    {
      "cell_type": "code",
      "source": [
        "areePerMunicipio = {'ID_NIL':aree['ID_NIL'] ,'MUNICIPIO':aree['MUNICIPIO']}\n",
        "areePerMunicipio = pd.DataFrame(areePerMunicipio)\n",
        "areePerMunicipio"
      ],
      "metadata": {
        "id": "hdJQcMpolJxn"
      },
      "execution_count": null,
      "outputs": []
    },
    {
      "cell_type": "markdown",
      "source": [
        "16. utilizzando il dataframe 'areePerMunicipio' visualizzare il municipio (o i municipi) con il maggior numero di aree da bonificare"
      ],
      "metadata": {
        "id": "GJPjln8Alinm"
      }
    },
    {
      "cell_type": "code",
      "source": [
        "areePerMunicipio.max()"
      ],
      "metadata": {
        "id": "vwP4iH1Jlg-_"
      },
      "execution_count": null,
      "outputs": []
    },
    {
      "cell_type": "markdown",
      "source": [
        "21. elimininare la colonna 'Location'"
      ],
      "metadata": {
        "id": "yzuA3X9CnZ6s"
      }
    },
    {
      "cell_type": "code",
      "source": [
        "aree.drop(columns = ('Location'))"
      ],
      "metadata": {
        "id": "XpKV4oxrnZPJ"
      },
      "execution_count": null,
      "outputs": []
    },
    {
      "cell_type": "markdown",
      "source": [
        "\n",
        "22. aggiungere una nuova colonna chiamata 'indirizzoCompleto': ogni riga di questa colonna deve essere ottenuta prendendo il valore del campo 'indirizzo' e concatenandolo al valore presente 'NIL'"
      ],
      "metadata": {
        "id": "q2H6H9LQn18D"
      }
    },
    {
      "cell_type": "code",
      "source": [
        "aree['indirizzoCompleto']"
      ],
      "metadata": {
        "id": "z1TiNKwan2Fv"
      },
      "execution_count": null,
      "outputs": []
    },
    {
      "cell_type": "markdown",
      "source": [
        "23. rinominare la conolla 'NIL' in quartiere"
      ],
      "metadata": {
        "id": "prFUEXb9oAu7"
      }
    },
    {
      "cell_type": "code",
      "source": [
        "areaeq = aree.rename(columns={'NIL': 'quartiere'})\n",
        "areaeq"
      ],
      "metadata": {
        "id": "m1LSRtPToBHq"
      },
      "execution_count": null,
      "outputs": []
    },
    {
      "cell_type": "markdown",
      "source": [
        "24. visualizzare le aree che hanno un ID_NIL compreso tra 10 e 30 e tra 50 e 70"
      ],
      "metadata": {
        "id": "w6PeT-JAob7j"
      }
    },
    {
      "cell_type": "code",
      "source": [
        "aree[10>aree['ID_NIL']<30, 50>aree['ID_NIL']<70]"
      ],
      "metadata": {
        "id": "xiAiY33Jocwy"
      },
      "execution_count": null,
      "outputs": []
    },
    {
      "cell_type": "markdown",
      "source": [
        "25. visualizzare le aree da bonificare che non appartengono ai quartieri 'ADRIANO', 'BANDE NERE' e 'BICOCCA'"
      ],
      "metadata": {
        "id": "JngnaB3uoz6q"
      }
    },
    {
      "cell_type": "code",
      "source": [
        "areaeq.loc[~areaeq['quartiere'].isin(['ADRIANO','BANDE NERE','BICOCCA'])]"
      ],
      "metadata": {
        "id": "bsZg5MUlo1np"
      },
      "execution_count": null,
      "outputs": []
    },
    {
      "cell_type": "markdown",
      "source": [
        "26. scrivere una funzione chiamata 'maiuscolo10' che data una stringa prenda oslo i primi 10 caratteri e li renda tutti maiuscoli"
      ],
      "metadata": {
        "id": "gdfuvMaWv_Vw"
      }
    },
    {
      "cell_type": "code",
      "source": [
        "def maiuscolo10(p):\n",
        "  return p[:10].str.upper()"
      ],
      "metadata": {
        "id": "XO4_iVUCv_Jw"
      },
      "execution_count": null,
      "outputs": []
    },
    {
      "cell_type": "markdown",
      "source": [
        "27. utilizzare la funzione appena creata per aggiungere al dataframe la colonna 'indirizzoMT' contenente i dati della colonna 'indirizzo' troncati ai primi 10 carattereri e scritti tutti in maiuscolo"
      ],
      "metadata": {
        "id": "0QaZsri7wgun"
      }
    },
    {
      "cell_type": "code",
      "source": [
        "aree['indirizzoMT'] = maiuscolo10(aree['Indirizzo'])\n",
        "aree"
      ],
      "metadata": {
        "id": "DJDBb0OHw0aB"
      },
      "execution_count": null,
      "outputs": []
    },
    {
      "cell_type": "markdown",
      "source": [
        "per ogni municipio il numero di aree"
      ],
      "metadata": {
        "id": "HlnDqIeV9uQw"
      }
    },
    {
      "cell_type": "code",
      "source": [
        "aree"
      ],
      "metadata": {
        "colab": {
          "base_uri": "https://localhost:8080/",
          "height": 641
        },
        "id": "W6pvsYOH9t-B",
        "outputId": "7e5215ce-6b75-4225-89c1-d48f0f7c260f"
      },
      "execution_count": null,
      "outputs": [
        {
          "output_type": "execute_result",
          "data": {
            "text/plain": [
              "      CodicePratica                                  DenominazioneSito  \\\n",
              "0         151460128                                     Trianto s.r.l.   \n",
              "1         151469159                                Area Parco Comunale   \n",
              "2         151469329                                 PV ERG Petroli Spa   \n",
              "3         151469093                                            PV ESSO   \n",
              "4         151469225                      Cooperativa Verde Moscova Srl   \n",
              "...             ...                                                ...   \n",
              "1252      151469115                                           Area AEM   \n",
              "1253      151469545  Rimozione serbatoio interrato c/o stabile - Fa...   \n",
              "1254     1514610146                                   Area Via Paravia   \n",
              "1255     1514610159                            AREA VIA FRANCESCO NAVA   \n",
              "1256      151469088                                          PV TAMOIL   \n",
              "\n",
              "                        Indirizzo     X_gb     Y_gb  MUNICIPIO  ID_NIL  \\\n",
              "0               Via Trivulzio, 18  1511309  5034769        7.0    52.0   \n",
              "1       Via Concilio Vaticano, II  1511749  5039955        8.0    76.0   \n",
              "2                  Via Farini, 92  1514596  5038164        9.0    11.0   \n",
              "3                  Via Ornato, 84  1515043  5040874        9.0    14.0   \n",
              "4     Via Moscova/Fatebenesorelle  1514907  5036012        1.0     2.0   \n",
              "...                           ...      ...      ...        ...     ...   \n",
              "1252             Via Giordani, 54  1509676  5031960        6.0    48.0   \n",
              "1253          Via Montegrappa, 12  1514832  5036407        1.0     2.0   \n",
              "1254               Via Paravia, 3  1509893  5035186        7.0    60.0   \n",
              "1255       Via FRANCESCO NAVA, 34  1514767  5038054        9.0    11.0   \n",
              "1256             Via Cassinis, 16  1518104  5031449        4.0    35.0   \n",
              "\n",
              "                                                    NIL    Y_wgs84   X_wgs84  \\\n",
              "0                                            BANDE NERE  45.465506  9.144657   \n",
              "1                     QUARTO OGGIARO - VIALBA - MUSOCCO  45.512175  9.150410   \n",
              "2                                                 ISOLA  45.496003  9.186805   \n",
              "3     NIGUARDA - CA' GRANDA - PRATO CENTENARO - Q.RE...  45.520387  9.192609   \n",
              "4                                                 BRERA  45.476631  9.190716   \n",
              "...                                                 ...        ...       ...   \n",
              "1252     RONCHETTO SUL NAVIGLIO - Q.RE LODOVICO IL MORO  45.440249  9.123711   \n",
              "1253                                              BRERA  45.480184  9.189770   \n",
              "1254                                 STADIO - IPPODROMI  45.469277  9.126548   \n",
              "1255                                              ISOLA  45.495011  9.188991   \n",
              "1256                                    LODI - CORVETTO  45.435480  9.231446   \n",
              "\n",
              "                       Location  \n",
              "0     (45.46550625, 9.14465724)  \n",
              "1     (45.51217486, 9.15040954)  \n",
              "2     (45.49600281, 9.18680455)  \n",
              "3     (45.52038741, 9.19260947)  \n",
              "4     (45.47663147, 9.19071595)  \n",
              "...                         ...  \n",
              "1252  (45.44024893, 9.12371116)  \n",
              "1253  (45.48018428, 9.18976983)  \n",
              "1254  (45.46927731, 9.12654798)  \n",
              "1255  (45.49501077, 9.18899099)  \n",
              "1256  (45.43548046, 9.23144599)  \n",
              "\n",
              "[1257 rows x 11 columns]"
            ],
            "text/html": [
              "\n",
              "  <div id=\"df-7a0d96a4-ba53-4242-8d7f-17c06bffae0f\">\n",
              "    <div class=\"colab-df-container\">\n",
              "      <div>\n",
              "<style scoped>\n",
              "    .dataframe tbody tr th:only-of-type {\n",
              "        vertical-align: middle;\n",
              "    }\n",
              "\n",
              "    .dataframe tbody tr th {\n",
              "        vertical-align: top;\n",
              "    }\n",
              "\n",
              "    .dataframe thead th {\n",
              "        text-align: right;\n",
              "    }\n",
              "</style>\n",
              "<table border=\"1\" class=\"dataframe\">\n",
              "  <thead>\n",
              "    <tr style=\"text-align: right;\">\n",
              "      <th></th>\n",
              "      <th>CodicePratica</th>\n",
              "      <th>DenominazioneSito</th>\n",
              "      <th>Indirizzo</th>\n",
              "      <th>X_gb</th>\n",
              "      <th>Y_gb</th>\n",
              "      <th>MUNICIPIO</th>\n",
              "      <th>ID_NIL</th>\n",
              "      <th>NIL</th>\n",
              "      <th>Y_wgs84</th>\n",
              "      <th>X_wgs84</th>\n",
              "      <th>Location</th>\n",
              "    </tr>\n",
              "  </thead>\n",
              "  <tbody>\n",
              "    <tr>\n",
              "      <th>0</th>\n",
              "      <td>151460128</td>\n",
              "      <td>Trianto s.r.l.</td>\n",
              "      <td>Via Trivulzio, 18</td>\n",
              "      <td>1511309</td>\n",
              "      <td>5034769</td>\n",
              "      <td>7.0</td>\n",
              "      <td>52.0</td>\n",
              "      <td>BANDE NERE</td>\n",
              "      <td>45.465506</td>\n",
              "      <td>9.144657</td>\n",
              "      <td>(45.46550625, 9.14465724)</td>\n",
              "    </tr>\n",
              "    <tr>\n",
              "      <th>1</th>\n",
              "      <td>151469159</td>\n",
              "      <td>Area Parco Comunale</td>\n",
              "      <td>Via Concilio Vaticano, II</td>\n",
              "      <td>1511749</td>\n",
              "      <td>5039955</td>\n",
              "      <td>8.0</td>\n",
              "      <td>76.0</td>\n",
              "      <td>QUARTO OGGIARO - VIALBA - MUSOCCO</td>\n",
              "      <td>45.512175</td>\n",
              "      <td>9.150410</td>\n",
              "      <td>(45.51217486, 9.15040954)</td>\n",
              "    </tr>\n",
              "    <tr>\n",
              "      <th>2</th>\n",
              "      <td>151469329</td>\n",
              "      <td>PV ERG Petroli Spa</td>\n",
              "      <td>Via Farini, 92</td>\n",
              "      <td>1514596</td>\n",
              "      <td>5038164</td>\n",
              "      <td>9.0</td>\n",
              "      <td>11.0</td>\n",
              "      <td>ISOLA</td>\n",
              "      <td>45.496003</td>\n",
              "      <td>9.186805</td>\n",
              "      <td>(45.49600281, 9.18680455)</td>\n",
              "    </tr>\n",
              "    <tr>\n",
              "      <th>3</th>\n",
              "      <td>151469093</td>\n",
              "      <td>PV ESSO</td>\n",
              "      <td>Via Ornato, 84</td>\n",
              "      <td>1515043</td>\n",
              "      <td>5040874</td>\n",
              "      <td>9.0</td>\n",
              "      <td>14.0</td>\n",
              "      <td>NIGUARDA - CA' GRANDA - PRATO CENTENARO - Q.RE...</td>\n",
              "      <td>45.520387</td>\n",
              "      <td>9.192609</td>\n",
              "      <td>(45.52038741, 9.19260947)</td>\n",
              "    </tr>\n",
              "    <tr>\n",
              "      <th>4</th>\n",
              "      <td>151469225</td>\n",
              "      <td>Cooperativa Verde Moscova Srl</td>\n",
              "      <td>Via Moscova/Fatebenesorelle</td>\n",
              "      <td>1514907</td>\n",
              "      <td>5036012</td>\n",
              "      <td>1.0</td>\n",
              "      <td>2.0</td>\n",
              "      <td>BRERA</td>\n",
              "      <td>45.476631</td>\n",
              "      <td>9.190716</td>\n",
              "      <td>(45.47663147, 9.19071595)</td>\n",
              "    </tr>\n",
              "    <tr>\n",
              "      <th>...</th>\n",
              "      <td>...</td>\n",
              "      <td>...</td>\n",
              "      <td>...</td>\n",
              "      <td>...</td>\n",
              "      <td>...</td>\n",
              "      <td>...</td>\n",
              "      <td>...</td>\n",
              "      <td>...</td>\n",
              "      <td>...</td>\n",
              "      <td>...</td>\n",
              "      <td>...</td>\n",
              "    </tr>\n",
              "    <tr>\n",
              "      <th>1252</th>\n",
              "      <td>151469115</td>\n",
              "      <td>Area AEM</td>\n",
              "      <td>Via Giordani, 54</td>\n",
              "      <td>1509676</td>\n",
              "      <td>5031960</td>\n",
              "      <td>6.0</td>\n",
              "      <td>48.0</td>\n",
              "      <td>RONCHETTO SUL NAVIGLIO - Q.RE LODOVICO IL MORO</td>\n",
              "      <td>45.440249</td>\n",
              "      <td>9.123711</td>\n",
              "      <td>(45.44024893, 9.12371116)</td>\n",
              "    </tr>\n",
              "    <tr>\n",
              "      <th>1253</th>\n",
              "      <td>151469545</td>\n",
              "      <td>Rimozione serbatoio interrato c/o stabile - Fa...</td>\n",
              "      <td>Via Montegrappa, 12</td>\n",
              "      <td>1514832</td>\n",
              "      <td>5036407</td>\n",
              "      <td>1.0</td>\n",
              "      <td>2.0</td>\n",
              "      <td>BRERA</td>\n",
              "      <td>45.480184</td>\n",
              "      <td>9.189770</td>\n",
              "      <td>(45.48018428, 9.18976983)</td>\n",
              "    </tr>\n",
              "    <tr>\n",
              "      <th>1254</th>\n",
              "      <td>1514610146</td>\n",
              "      <td>Area Via Paravia</td>\n",
              "      <td>Via Paravia, 3</td>\n",
              "      <td>1509893</td>\n",
              "      <td>5035186</td>\n",
              "      <td>7.0</td>\n",
              "      <td>60.0</td>\n",
              "      <td>STADIO - IPPODROMI</td>\n",
              "      <td>45.469277</td>\n",
              "      <td>9.126548</td>\n",
              "      <td>(45.46927731, 9.12654798)</td>\n",
              "    </tr>\n",
              "    <tr>\n",
              "      <th>1255</th>\n",
              "      <td>1514610159</td>\n",
              "      <td>AREA VIA FRANCESCO NAVA</td>\n",
              "      <td>Via FRANCESCO NAVA, 34</td>\n",
              "      <td>1514767</td>\n",
              "      <td>5038054</td>\n",
              "      <td>9.0</td>\n",
              "      <td>11.0</td>\n",
              "      <td>ISOLA</td>\n",
              "      <td>45.495011</td>\n",
              "      <td>9.188991</td>\n",
              "      <td>(45.49501077, 9.18899099)</td>\n",
              "    </tr>\n",
              "    <tr>\n",
              "      <th>1256</th>\n",
              "      <td>151469088</td>\n",
              "      <td>PV TAMOIL</td>\n",
              "      <td>Via Cassinis, 16</td>\n",
              "      <td>1518104</td>\n",
              "      <td>5031449</td>\n",
              "      <td>4.0</td>\n",
              "      <td>35.0</td>\n",
              "      <td>LODI - CORVETTO</td>\n",
              "      <td>45.435480</td>\n",
              "      <td>9.231446</td>\n",
              "      <td>(45.43548046, 9.23144599)</td>\n",
              "    </tr>\n",
              "  </tbody>\n",
              "</table>\n",
              "<p>1257 rows × 11 columns</p>\n",
              "</div>\n",
              "      <button class=\"colab-df-convert\" onclick=\"convertToInteractive('df-7a0d96a4-ba53-4242-8d7f-17c06bffae0f')\"\n",
              "              title=\"Convert this dataframe to an interactive table.\"\n",
              "              style=\"display:none;\">\n",
              "        \n",
              "  <svg xmlns=\"http://www.w3.org/2000/svg\" height=\"24px\"viewBox=\"0 0 24 24\"\n",
              "       width=\"24px\">\n",
              "    <path d=\"M0 0h24v24H0V0z\" fill=\"none\"/>\n",
              "    <path d=\"M18.56 5.44l.94 2.06.94-2.06 2.06-.94-2.06-.94-.94-2.06-.94 2.06-2.06.94zm-11 1L8.5 8.5l.94-2.06 2.06-.94-2.06-.94L8.5 2.5l-.94 2.06-2.06.94zm10 10l.94 2.06.94-2.06 2.06-.94-2.06-.94-.94-2.06-.94 2.06-2.06.94z\"/><path d=\"M17.41 7.96l-1.37-1.37c-.4-.4-.92-.59-1.43-.59-.52 0-1.04.2-1.43.59L10.3 9.45l-7.72 7.72c-.78.78-.78 2.05 0 2.83L4 21.41c.39.39.9.59 1.41.59.51 0 1.02-.2 1.41-.59l7.78-7.78 2.81-2.81c.8-.78.8-2.07 0-2.86zM5.41 20L4 18.59l7.72-7.72 1.47 1.35L5.41 20z\"/>\n",
              "  </svg>\n",
              "      </button>\n",
              "      \n",
              "  <style>\n",
              "    .colab-df-container {\n",
              "      display:flex;\n",
              "      flex-wrap:wrap;\n",
              "      gap: 12px;\n",
              "    }\n",
              "\n",
              "    .colab-df-convert {\n",
              "      background-color: #E8F0FE;\n",
              "      border: none;\n",
              "      border-radius: 50%;\n",
              "      cursor: pointer;\n",
              "      display: none;\n",
              "      fill: #1967D2;\n",
              "      height: 32px;\n",
              "      padding: 0 0 0 0;\n",
              "      width: 32px;\n",
              "    }\n",
              "\n",
              "    .colab-df-convert:hover {\n",
              "      background-color: #E2EBFA;\n",
              "      box-shadow: 0px 1px 2px rgba(60, 64, 67, 0.3), 0px 1px 3px 1px rgba(60, 64, 67, 0.15);\n",
              "      fill: #174EA6;\n",
              "    }\n",
              "\n",
              "    [theme=dark] .colab-df-convert {\n",
              "      background-color: #3B4455;\n",
              "      fill: #D2E3FC;\n",
              "    }\n",
              "\n",
              "    [theme=dark] .colab-df-convert:hover {\n",
              "      background-color: #434B5C;\n",
              "      box-shadow: 0px 1px 3px 1px rgba(0, 0, 0, 0.15);\n",
              "      filter: drop-shadow(0px 1px 2px rgba(0, 0, 0, 0.3));\n",
              "      fill: #FFFFFF;\n",
              "    }\n",
              "  </style>\n",
              "\n",
              "      <script>\n",
              "        const buttonEl =\n",
              "          document.querySelector('#df-7a0d96a4-ba53-4242-8d7f-17c06bffae0f button.colab-df-convert');\n",
              "        buttonEl.style.display =\n",
              "          google.colab.kernel.accessAllowed ? 'block' : 'none';\n",
              "\n",
              "        async function convertToInteractive(key) {\n",
              "          const element = document.querySelector('#df-7a0d96a4-ba53-4242-8d7f-17c06bffae0f');\n",
              "          const dataTable =\n",
              "            await google.colab.kernel.invokeFunction('convertToInteractive',\n",
              "                                                     [key], {});\n",
              "          if (!dataTable) return;\n",
              "\n",
              "          const docLinkHtml = 'Like what you see? Visit the ' +\n",
              "            '<a target=\"_blank\" href=https://colab.research.google.com/notebooks/data_table.ipynb>data table notebook</a>'\n",
              "            + ' to learn more about interactive tables.';\n",
              "          element.innerHTML = '';\n",
              "          dataTable['output_type'] = 'display_data';\n",
              "          await google.colab.output.renderOutput(dataTable, element);\n",
              "          const docLink = document.createElement('div');\n",
              "          docLink.innerHTML = docLinkHtml;\n",
              "          element.appendChild(docLink);\n",
              "        }\n",
              "      </script>\n",
              "    </div>\n",
              "  </div>\n",
              "  "
            ]
          },
          "metadata": {},
          "execution_count": 13
        }
      ]
    },
    {
      "cell_type": "code",
      "source": [
        "areagb = aree.groupby('MUNICIPIO').count().reset_index()[['MUNICIPIO','NIL']]"
      ],
      "metadata": {
        "id": "nT4EMnb298Ne"
      },
      "execution_count": null,
      "outputs": []
    },
    {
      "cell_type": "code",
      "source": [
        "areagb[areagb['NIL'] == areagb['NIL'].max()]"
      ],
      "metadata": {
        "colab": {
          "base_uri": "https://localhost:8080/",
          "height": 81
        },
        "id": "6SjmXw_8-k5r",
        "outputId": "66de4255-5684-4da8-9167-0855c1fb2e72"
      },
      "execution_count": null,
      "outputs": [
        {
          "output_type": "execute_result",
          "data": {
            "text/plain": [
              "   MUNICIPIO  NIL\n",
              "8        9.0  209"
            ],
            "text/html": [
              "\n",
              "  <div id=\"df-31597993-e865-4497-b2b1-cd4c4256b54e\">\n",
              "    <div class=\"colab-df-container\">\n",
              "      <div>\n",
              "<style scoped>\n",
              "    .dataframe tbody tr th:only-of-type {\n",
              "        vertical-align: middle;\n",
              "    }\n",
              "\n",
              "    .dataframe tbody tr th {\n",
              "        vertical-align: top;\n",
              "    }\n",
              "\n",
              "    .dataframe thead th {\n",
              "        text-align: right;\n",
              "    }\n",
              "</style>\n",
              "<table border=\"1\" class=\"dataframe\">\n",
              "  <thead>\n",
              "    <tr style=\"text-align: right;\">\n",
              "      <th></th>\n",
              "      <th>MUNICIPIO</th>\n",
              "      <th>NIL</th>\n",
              "    </tr>\n",
              "  </thead>\n",
              "  <tbody>\n",
              "    <tr>\n",
              "      <th>8</th>\n",
              "      <td>9.0</td>\n",
              "      <td>209</td>\n",
              "    </tr>\n",
              "  </tbody>\n",
              "</table>\n",
              "</div>\n",
              "      <button class=\"colab-df-convert\" onclick=\"convertToInteractive('df-31597993-e865-4497-b2b1-cd4c4256b54e')\"\n",
              "              title=\"Convert this dataframe to an interactive table.\"\n",
              "              style=\"display:none;\">\n",
              "        \n",
              "  <svg xmlns=\"http://www.w3.org/2000/svg\" height=\"24px\"viewBox=\"0 0 24 24\"\n",
              "       width=\"24px\">\n",
              "    <path d=\"M0 0h24v24H0V0z\" fill=\"none\"/>\n",
              "    <path d=\"M18.56 5.44l.94 2.06.94-2.06 2.06-.94-2.06-.94-.94-2.06-.94 2.06-2.06.94zm-11 1L8.5 8.5l.94-2.06 2.06-.94-2.06-.94L8.5 2.5l-.94 2.06-2.06.94zm10 10l.94 2.06.94-2.06 2.06-.94-2.06-.94-.94-2.06-.94 2.06-2.06.94z\"/><path d=\"M17.41 7.96l-1.37-1.37c-.4-.4-.92-.59-1.43-.59-.52 0-1.04.2-1.43.59L10.3 9.45l-7.72 7.72c-.78.78-.78 2.05 0 2.83L4 21.41c.39.39.9.59 1.41.59.51 0 1.02-.2 1.41-.59l7.78-7.78 2.81-2.81c.8-.78.8-2.07 0-2.86zM5.41 20L4 18.59l7.72-7.72 1.47 1.35L5.41 20z\"/>\n",
              "  </svg>\n",
              "      </button>\n",
              "      \n",
              "  <style>\n",
              "    .colab-df-container {\n",
              "      display:flex;\n",
              "      flex-wrap:wrap;\n",
              "      gap: 12px;\n",
              "    }\n",
              "\n",
              "    .colab-df-convert {\n",
              "      background-color: #E8F0FE;\n",
              "      border: none;\n",
              "      border-radius: 50%;\n",
              "      cursor: pointer;\n",
              "      display: none;\n",
              "      fill: #1967D2;\n",
              "      height: 32px;\n",
              "      padding: 0 0 0 0;\n",
              "      width: 32px;\n",
              "    }\n",
              "\n",
              "    .colab-df-convert:hover {\n",
              "      background-color: #E2EBFA;\n",
              "      box-shadow: 0px 1px 2px rgba(60, 64, 67, 0.3), 0px 1px 3px 1px rgba(60, 64, 67, 0.15);\n",
              "      fill: #174EA6;\n",
              "    }\n",
              "\n",
              "    [theme=dark] .colab-df-convert {\n",
              "      background-color: #3B4455;\n",
              "      fill: #D2E3FC;\n",
              "    }\n",
              "\n",
              "    [theme=dark] .colab-df-convert:hover {\n",
              "      background-color: #434B5C;\n",
              "      box-shadow: 0px 1px 3px 1px rgba(0, 0, 0, 0.15);\n",
              "      filter: drop-shadow(0px 1px 2px rgba(0, 0, 0, 0.3));\n",
              "      fill: #FFFFFF;\n",
              "    }\n",
              "  </style>\n",
              "\n",
              "      <script>\n",
              "        const buttonEl =\n",
              "          document.querySelector('#df-31597993-e865-4497-b2b1-cd4c4256b54e button.colab-df-convert');\n",
              "        buttonEl.style.display =\n",
              "          google.colab.kernel.accessAllowed ? 'block' : 'none';\n",
              "\n",
              "        async function convertToInteractive(key) {\n",
              "          const element = document.querySelector('#df-31597993-e865-4497-b2b1-cd4c4256b54e');\n",
              "          const dataTable =\n",
              "            await google.colab.kernel.invokeFunction('convertToInteractive',\n",
              "                                                     [key], {});\n",
              "          if (!dataTable) return;\n",
              "\n",
              "          const docLinkHtml = 'Like what you see? Visit the ' +\n",
              "            '<a target=\"_blank\" href=https://colab.research.google.com/notebooks/data_table.ipynb>data table notebook</a>'\n",
              "            + ' to learn more about interactive tables.';\n",
              "          element.innerHTML = '';\n",
              "          dataTable['output_type'] = 'display_data';\n",
              "          await google.colab.output.renderOutput(dataTable, element);\n",
              "          const docLink = document.createElement('div');\n",
              "          docLink.innerHTML = docLinkHtml;\n",
              "          element.appendChild(docLink);\n",
              "        }\n",
              "      </script>\n",
              "    </div>\n",
              "  </div>\n",
              "  "
            ]
          },
          "metadata": {},
          "execution_count": 19
        }
      ]
    },
    {
      "cell_type": "markdown",
      "source": [
        "grafico con ascisse i municipi e le ordinate il numero aree"
      ],
      "metadata": {
        "id": "u2zzr29O-4do"
      }
    },
    {
      "cell_type": "code",
      "source": [
        "import matplotlib.pyplot as plt\n",
        "import numpy as np"
      ],
      "metadata": {
        "id": "-8bZ1kIJ_QTM"
      },
      "execution_count": null,
      "outputs": []
    },
    {
      "cell_type": "code",
      "source": [
        "ascisse = areagb['MUNICIPIO'].map(str)\n",
        "ordinate = areagb['NIL']\n",
        "\n",
        "\n",
        "fig, ax = plt.subplots(figsize=(20,15))\n",
        "ax.bar(ascisse, ordinate, label='AREE PER MUNICIPI',color = [\"red\", \"blue\", \"green\", \"yellow\", \"black\"])\n",
        "ax.set_title('Titolo')\n",
        "ax.set_xlabel('Municipio')\n",
        "ax.set_ylabel('Aree')\n",
        "ax.legend()"
      ],
      "metadata": {
        "colab": {
          "base_uri": "https://localhost:8080/",
          "height": 1000
        },
        "id": "7HbAvJfW-4Lo",
        "outputId": "69e3ccfd-b495-4175-b817-5732652c6736"
      },
      "execution_count": null,
      "outputs": [
        {
          "output_type": "execute_result",
          "data": {
            "text/plain": [
              "<matplotlib.legend.Legend at 0x7fce51780070>"
            ]
          },
          "metadata": {},
          "execution_count": 28
        },
        {
          "output_type": "display_data",
          "data": {
            "text/plain": [
              "<Figure size 2000x1500 with 1 Axes>"
            ],
            "image/png": "[encoded data removed]"
          },
          "metadata": {}
        }
      ]
    },
    {
      "cell_type": "code",
      "source": [
        "ascisse = areagb['MUNICIPIO'].map(str)\n",
        "ordinate = areagb['NIL']\n",
        "\n",
        "\n",
        "fig, ax = plt.subplots(figsize=(20,15))\n",
        "ax.barh(ascisse, ordinate, label='AREE PER MUNICIPI',color = [\"red\", \"blue\", \"green\", \"yellow\", \"black\"])\n",
        "ax.set_title('Titolo')\n",
        "ax.set_xlabel('Municipio')\n",
        "ax.set_ylabel('Aree')\n",
        "ax.legend()"
      ],
      "metadata": {
        "colab": {
          "base_uri": "https://localhost:8080/",
          "height": 1000
        },
        "id": "djpwGqzFESDX",
        "outputId": "a31ed4b9-9dc7-4128-eef0-ddf598a7900d"
      },
      "execution_count": null,
      "outputs": [
        {
          "output_type": "execute_result",
          "data": {
            "text/plain": [
              "<matplotlib.legend.Legend at 0x7fce519d6b00>"
            ]
          },
          "metadata": {},
          "execution_count": 29
        },
        {
          "output_type": "display_data",
          "data": {
            "text/plain": [
              "<Figure size 2000x1500 with 1 Axes>"
            ],
            "image/png": "[encoded data removed]"
          },
          "metadata": {}
        }
      ]
    },
    {
      "cell_type": "code",
      "source": [
        "ascisse = areagb['MUNICIPIO'].map(str)\n",
        "ordinate = areagb['NIL']\n",
        "\n",
        "\n",
        "fig, ax = plt.subplots(figsize=(20,15))\n",
        "plt.pie(ordinate, labels=ascisse, autopct='%1.1f%%',colors = [\"red\", \"blue\", \"green\", \"yellow\", \"grey\"])\n",
        "plt.show()"
      ],
      "metadata": {
        "colab": {
          "base_uri": "https://localhost:8080/",
          "height": 1000
        },
        "id": "sOBEGD12EVnt",
        "outputId": "9a4f0d15-7302-4048-8863-54a22aeb9d60"
      },
      "execution_count": null,
      "outputs": [
        {
          "output_type": "display_data",
          "data": {
            "text/plain": [
              "<Figure size 2000x1500 with 1 Axes>"
            ],
            "image/png": "[encoded data removed]"
          },
          "metadata": {}
        }
      ]
    },
    {
      "cell_type": "code",
      "source": [
        "ascisse = areagb['MUNICIPIO'].map(str)\n",
        "ordinate = areagb['NIL']\n",
        "\n",
        "# Creazione della griglia di assi\n",
        "fig, axs = plt.subplots(1, 3, figsize=(12, 4))\n",
        "\n",
        "# Disegno dei grafici su ciascun asse\n",
        "axs[0].bar(ascisse, ordinate, label='AREE PER MUNICIPI',color = [\"red\", \"blue\", \"green\", \"yellow\", \"black\"])\n",
        "axs[0].set_title('Verticale')\n",
        "\n",
        "axs[1].barh(ascisse, ordinate, label='AREE PER MUNICIPI',color = [\"red\", \"blue\", \"green\", \"yellow\", \"black\"])\n",
        "axs[1].set_title('Orizzontali')\n",
        "\n",
        "axs[2].pie(ordinate, labels=ascisse, autopct='%1.1f%%',colors = [\"red\", \"blue\", \"green\", \"yellow\", \"grey\"])\n",
        "axs[2].set_title('Torta')\n",
        "\n",
        "# Impostazione dei titoli e dei margini\n",
        "plt.suptitle('Grafici')\n",
        "plt.tight_layout()\n",
        "\n",
        "# Visualizzazione del grafico\n",
        "plt.show()"
      ],
      "metadata": {
        "colab": {
          "base_uri": "https://localhost:8080/",
          "height": 413
        },
        "id": "05hFMpABFImS",
        "outputId": "8635e3ee-e10e-4050-b31d-eb8659c5a33c"
      },
      "execution_count": null,
      "outputs": [
        {
          "output_type": "display_data",
          "data": {
            "text/plain": [
              "<Figure size 1200x400 with 3 Axes>"
            ],
            "image/png": "[encoded data removed]"
          },
          "metadata": {}
        }
      ]
    }
  ]
}